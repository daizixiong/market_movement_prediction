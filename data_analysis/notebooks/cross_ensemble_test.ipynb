{
 "cells": [
  {
   "cell_type": "markdown",
   "metadata": {},
   "source": [
    "# K-fold cross validation and Ensemble"
   ]
  },
  {
   "cell_type": "code",
   "execution_count": 1,
   "metadata": {
    "collapsed": true
   },
   "outputs": [],
   "source": [
    "# import packages\n",
    "from sklearn import metrics\n",
    "from sklearn.model_selection import cross_val_score\n",
    "from sklearn.model_selection import train_test_split\n",
    "import numpy as np\n",
    "import pandas as pd\n",
    "from sklearn.metrics import accuracy_score"
   ]
  },
  {
   "cell_type": "code",
   "execution_count": 2,
   "metadata": {
    "collapsed": true
   },
   "outputs": [],
   "source": [
    "# import algorithm models\n",
    "from lib.models import models\n",
    "from lib.test import Check,CrossCheck\n",
    "# import report object\n",
    "from utils.reports import Report"
   ]
  },
  {
   "cell_type": "code",
   "execution_count": 3,
   "metadata": {
    "collapsed": true
   },
   "outputs": [],
   "source": [
    "# params path\n",
    "params_path = \"./data/aapl_data_set.csv\"\n",
    "\n",
    "# reports saving path\n",
    "reports_path = \"./log/test_2019_5_24.log\""
   ]
  },
  {
   "cell_type": "code",
   "execution_count": 4,
   "metadata": {
    "collapsed": true
   },
   "outputs": [],
   "source": [
    "report_object = Report(reports_path)"
   ]
  },
  {
   "cell_type": "code",
   "execution_count": 35,
   "metadata": {
    "collapsed": true
   },
   "outputs": [],
   "source": [
    "# import params\n",
    "params = pd.read_csv(params_path,index_col=\"date\")"
   ]
  },
  {
   "cell_type": "code",
   "execution_count": 37,
   "metadata": {},
   "outputs": [],
   "source": [
    "X = params.loc[:].copy()\n",
    "X.drop([\"stock_price_movement\"],inplace=True,axis=1)\n",
    "y = params[\"stock_price_movement\"].copy()"
   ]
  },
  {
   "cell_type": "code",
   "execution_count": 7,
   "metadata": {
    "collapsed": true
   },
   "outputs": [],
   "source": [
    "from sklearn.model_selection import KFold"
   ]
  },
  {
   "cell_type": "code",
   "execution_count": 95,
   "metadata": {
    "collapsed": true
   },
   "outputs": [],
   "source": [
    "def simple_ensemble(models_list,X_train,y_train,X_test):\n",
    "    \"\"\"\n",
    "    using models with sample ensemble techniques to fit data, \n",
    "    and return the predicted result\n",
    "    :param models_list: scikit-learn models list\n",
    "    :param X_train: pandas.Dataframe traing data of x\n",
    "    :param y_train: pandas.Dataframe traing data of y\n",
    "    :param X_test: pandas.Dataframe testing data of x\n",
    "    :return y_pred: pandas.Series predicted results\n",
    "    \"\"\"\n",
    "    result = {}\n",
    "    for model_item in models_list:\n",
    "        model_name = model_item[\"name\"]\n",
    "        y_pred = model_fit_and_predict(model_item[\"model\"],X_train,y_train,X_test)\n",
    "        result[model_name] = list(y_pred)\n",
    "    result = pd.DataFrame(result)\n",
    "    result[\"sum\"] = result.apply(lambda x: sum(x),axis=1)\n",
    "    result[\"vote\"]= result.apply(lambda x: 1 if x[\"sum\"] > 0 else -1, axis=1)\n",
    "    result.index = X_test.index\n",
    "    return result[\"vote\"].copy()"
   ]
  },
  {
   "cell_type": "code",
   "execution_count": 92,
   "metadata": {
    "collapsed": true
   },
   "outputs": [],
   "source": [
    "def model_fit_and_predict(model,X_train,y_train,X_test):\n",
    "    \"\"\"\n",
    "    using model to fit data, and return the predicted result\n",
    "    :param model: scikit-learn model\n",
    "    :param X_train: pandas.Dataframe traing data of x\n",
    "    :param y_train: pandas.Dataframe traing data of y\n",
    "    :param X_test: pandas.Dataframe testing data of x\n",
    "    :return y_pred: np.ndarry predicted result\n",
    "    \"\"\"\n",
    "    model.fit(X_train,y_train)\n",
    "    return model.predict(X_test)"
   ]
  },
  {
   "cell_type": "code",
   "execution_count": 93,
   "metadata": {
    "collapsed": true
   },
   "outputs": [],
   "source": [
    "def ensemble_test(X,y,cv,models_list):\n",
    "    \"\"\"\n",
    "    using ensemble and k-fold cross validation to train the model, test the data.\n",
    "    \"\"\"\n",
    "    outer_cv = KFold(n_splits=cv, shuffle=True, random_state=1)\n",
    "    scores = []\n",
    "    for i, (train_idx, test_idx) in enumerate(outer_cv.split(X, y)): \n",
    "        X_train, X_test = X.loc[train_idx], X.loc[test_idx]\n",
    "        y_train, y_test = y.loc[train_idx], y.loc[test_idx]\n",
    "        y_pred = simple_ensemble(models_list,X_train,y_train,X_test)\n",
    "        scores.append(accuracy_score(y_test, y_pred))\n",
    "    return scores"
   ]
  },
  {
   "cell_type": "code",
   "execution_count": 12,
   "metadata": {},
   "outputs": [
    {
     "data": {
      "text/plain": [
       "[0.6, 0.6, 0.9, 0.8888888888888888, 0.6666666666666666]"
      ]
     },
     "execution_count": 12,
     "metadata": {},
     "output_type": "execute_result"
    }
   ],
   "source": [
    "ensemble_test(X,y,5,models)"
   ]
  },
  {
   "cell_type": "code",
   "execution_count": 13,
   "metadata": {
    "collapsed": true
   },
   "outputs": [],
   "source": [
    "from sklearn import metrics\n",
    "from sklearn.model_selection import cross_val_score\n",
    "from sklearn.model_selection import train_test_split\n",
    "from sklearn.model_selection import KFold\n",
    "from sklearn.metrics import accuracy_score\n",
    "import numpy as np\n",
    "import pandas as pd"
   ]
  },
  {
   "cell_type": "code",
   "execution_count": 18,
   "metadata": {
    "collapsed": true
   },
   "outputs": [],
   "source": [
    "import datetime,time"
   ]
  },
  {
   "cell_type": "code",
   "execution_count": 84,
   "metadata": {
    "collapsed": true
   },
   "outputs": [],
   "source": [
    "class Check(object):\n",
    "    \"\"\"train the model, test the model, output the results\"\"\"\n",
    "    def __init__(self, test_models,epochs,X,y,test_size=0.2,report_obj=None,ensemble=False,show=True,result_saving_path=None):\n",
    "        self.test_models = test_models\n",
    "        self.epochs = epochs\n",
    "\n",
    "        self.split(X, y, test_size)\n",
    "        self.show = show or False\n",
    "        self.print_func_list = []\n",
    "        self.output_functions(report_obj)\n",
    "        self.ensemble = ensemble\n",
    "        self.result_saving_path=result_saving_path\n",
    "\n",
    "    def output_functions(self, report_obj):\n",
    "        \"\"\"\n",
    "        add the report string functions list\n",
    "        \"\"\"\n",
    "        self.print_func_list = []\n",
    "        if report_obj !=None:\n",
    "            self.print_func_list.append(report_obj.add)\n",
    "        if self.show == True:\n",
    "            self.print_func_list.append(print)\n",
    "\n",
    "    def output(self,*output_str):\n",
    "        \"\"\"\n",
    "        description\n",
    "        \"\"\"\n",
    "        output_str = \" \".join(str(x) for x in list(output_str))\n",
    "        if len(output_str) > 0:\n",
    "            [x(output_str) for x in self.print_func_list]\n",
    "\n",
    "    def split(self,X,y,test_size=0.2):\n",
    "        \n",
    "        \"\"\"\n",
    "        Split the dataset into train and test data.\n",
    "        \"\"\"\n",
    "        # get the test data item number\n",
    "        test_shape = int(X.shape[0]*test_size)\n",
    "        \n",
    "        if test_shape != X.shape[0]*test_size:\n",
    "            test_shape += 1\n",
    "\n",
    "        train_shape = X.shape[0] - test_shape\n",
    "        \n",
    "        self.X_train = X.iloc[0:train_shape-1].copy()\n",
    "        self.X_test = X.iloc[train_shape:].copy()\n",
    "        \n",
    "        self.y_train = y.iloc[0:train_shape-1].copy()\n",
    "        self.y_test = y.iloc[train_shape:].copy()\n",
    "        \n",
    "\n",
    "    def ensemble_test(self):\n",
    "        \"\"\"\n",
    "        using ensemble model to train & test the data\n",
    "        \"\"\"\n",
    "        if len(self.test_models)%2 !=1:\n",
    "            self.output(\"Ensemble needs odd number of models!\")\n",
    "            return\n",
    "        result = {\"y_test\":self.y_test}\n",
    "        for i in range(self.epochs):\n",
    "            self.output(\"ensemble epoch \",i+1)\n",
    "            self.output(\"=\"*80)\n",
    "            y_pred = simple_ensemble(self.test_models,\n",
    "                                                 self.X_train,\n",
    "                                                 self.y_train,\n",
    "                                                 self.X_test)\n",
    "            \n",
    "            pred_result_key = \"epoch_{}\".format(i+1)\n",
    "            result[pred_result_key] = y_pred\n",
    "            \n",
    "            self.model_accuracy(\"ensemble test accuracy: \",self.y_test,y_pred)\n",
    "            self.output('-'*80)\n",
    "\n",
    "        if self.result_saving_path:\n",
    "            self.save_testing_results(\"ensemble\",result)\n",
    "\n",
    "    def model_accuracy(self,classifier,y_test,y_pred):\n",
    "        self.output(\"Classification report for classifier %s:\\n%s\\n\"\n",
    "            % (classifier, metrics.classification_report(y_test, y_pred)))\n",
    "        self.output(\"model accuracy: \", metrics.accuracy_score(y_test, y_pred))\n",
    "\n",
    "    def save_testing_results(self,model_name,result):\n",
    "        \"\"\"\n",
    "        save the testing result and predicting result.\n",
    "        \"\"\"\n",
    "        now = time.strftime(\"%Y_%m_%d_%H_%M_%S\")\n",
    "        \n",
    "        file_path = \"{0}/{1}_{2}.csv\".format(self.result_saving_path,now,model_name)\n",
    "        result = pd.DataFrame(result)\n",
    "        result.to_csv(file_path)\n",
    "\n",
    "    def seperate_test(self):\n",
    "        \"\"\"\n",
    "        testing the models seperately.\n",
    "        \"\"\"\n",
    "        \n",
    "        for model_item in self.test_models:\n",
    "            self.output(\"Using {} model to train and predict the data\".format(model_item[\"name\"]))\n",
    "            result = {\"y_test\":self.y_test}\n",
    "            for i in range(self.epochs):\n",
    "                self.output(\"=\"*80)\n",
    "                self.output(\"testing epoch \",i+1)\n",
    "                y_pred = model_fit_and_predict(model_item[\"model\"],\n",
    "                                                           self.X_train,\n",
    "                                                           self.y_train,\n",
    "                                                           self.X_test)\n",
    "                pred_result_key = \"epoch_{}\".format(i+1)\n",
    "                result[pred_result_key] = y_pred\n",
    "                self.model_accuracy(model_item[\"name\"],self.y_test,y_pred)\n",
    "                self.output('-'*80)\n",
    "            \n",
    "            if self.result_saving_path:\n",
    "                self.save_testing_results(model_item[\"name\"],result)\n",
    "\n",
    "    def train(self):\n",
    "        \"\"\"\n",
    "        train and testing the data\n",
    "        \"\"\"\n",
    "        models_name = []\n",
    "        for item in self.test_models:\n",
    "            models_name.append(item[\"name\"])\n",
    "        self.output(\"Testing these models: \", models_name)\n",
    "        if self.ensemble == True:\n",
    "            self.output(\"Using ensemble techniques to predict the stock price movement.\")\n",
    "        self.output('*'*90)\n",
    "        if self.ensemble:\n",
    "            self.ensemble_test()\n",
    "        else:\n",
    "            self.seperate_test()"
   ]
  },
  {
   "cell_type": "code",
   "execution_count": 79,
   "metadata": {},
   "outputs": [],
   "source": [
    "check = Check(models,3,X,y,test_size=0.2,report_obj=report_object,\n",
    "              ensemble=False,show=False,result_saving_path=\"./result\")"
   ]
  },
  {
   "cell_type": "code",
   "execution_count": 80,
   "metadata": {},
   "outputs": [
    {
     "name": "stderr",
     "output_type": "stream",
     "text": [
      "/Users/steven/.local/lib/python3.6/site-packages/sklearn/metrics/classification.py:1135: UndefinedMetricWarning: Precision and F-score are ill-defined and being set to 0.0 in labels with no predicted samples.\n",
      "  'precision', 'predicted', average, warn_for)\n"
     ]
    }
   ],
   "source": [
    "check.train()"
   ]
  },
  {
   "cell_type": "code",
   "execution_count": 81,
   "metadata": {
    "collapsed": true
   },
   "outputs": [],
   "source": [
    "ensemble_models = models.copy()"
   ]
  },
  {
   "cell_type": "code",
   "execution_count": 82,
   "metadata": {},
   "outputs": [
    {
     "data": {
      "text/plain": [
       "{'model': LogisticRegression(C=1.0, class_weight=None, dual=False, fit_intercept=True,\n",
       "           intercept_scaling=1, max_iter=100, multi_class='multinomial',\n",
       "           n_jobs=1, penalty='l2', random_state=0, solver='lbfgs',\n",
       "           tol=0.0001, verbose=0, warm_start=False),\n",
       " 'name': 'logistic_regression'}"
      ]
     },
     "execution_count": 82,
     "metadata": {},
     "output_type": "execute_result"
    }
   ],
   "source": [
    "ensemble_models.pop(3)"
   ]
  },
  {
   "cell_type": "code",
   "execution_count": 89,
   "metadata": {
    "collapsed": true
   },
   "outputs": [],
   "source": [
    "ensemble_check = Check(ensemble_models,3,X,y,test_size=0.2,\n",
    "                       report_obj=report_object,ensemble=True,\n",
    "                       show=False,result_saving_path=\"./result\")"
   ]
  },
  {
   "cell_type": "code",
   "execution_count": 97,
   "metadata": {},
   "outputs": [],
   "source": [
    "ensemble_check.train()"
   ]
  },
  {
   "cell_type": "code",
   "execution_count": null,
   "metadata": {
    "collapsed": true
   },
   "outputs": [],
   "source": []
  }
 ],
 "metadata": {
  "kernelspec": {
   "display_name": "tweet",
   "language": "python",
   "name": "tweet"
  },
  "language_info": {
   "codemirror_mode": {
    "name": "ipython",
    "version": 3
   },
   "file_extension": ".py",
   "mimetype": "text/x-python",
   "name": "python",
   "nbconvert_exporter": "python",
   "pygments_lexer": "ipython3",
   "version": "3.6.8"
  }
 },
 "nbformat": 4,
 "nbformat_minor": 2
}
