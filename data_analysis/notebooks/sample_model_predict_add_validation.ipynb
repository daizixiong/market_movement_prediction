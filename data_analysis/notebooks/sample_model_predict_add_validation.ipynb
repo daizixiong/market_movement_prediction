{
 "cells": [
  {
   "cell_type": "markdown",
   "metadata": {},
   "source": [
    "# Amazon stock price movement prediciton using social network sentiment\n",
    "\n",
    "model lists:\n",
    "- svm\n",
    "- naive bayes\n",
    "- random forest\n",
    "- decision tree"
   ]
  },
  {
   "cell_type": "code",
   "execution_count": 1,
   "metadata": {},
   "outputs": [],
   "source": [
    "import numpy as np\n",
    "import pandas as pd\n",
    "import matplotlib.pyplot as plt"
   ]
  },
  {
   "cell_type": "code",
   "execution_count": 2,
   "metadata": {
    "collapsed": true
   },
   "outputs": [],
   "source": [
    "from sklearn import svm,metrics"
   ]
  },
  {
   "cell_type": "code",
   "execution_count": 3,
   "metadata": {
    "collapsed": true
   },
   "outputs": [],
   "source": [
    "from sklearn.model_selection import train_test_split"
   ]
  },
  {
   "cell_type": "markdown",
   "metadata": {},
   "source": [
    "## import dataset"
   ]
  },
  {
   "cell_type": "code",
   "execution_count": 4,
   "metadata": {
    "collapsed": true
   },
   "outputs": [],
   "source": [
    "dataset_file_path = \"./data/data_set.csv\""
   ]
  },
  {
   "cell_type": "code",
   "execution_count": 5,
   "metadata": {
    "collapsed": true
   },
   "outputs": [],
   "source": [
    "dataset = pd.read_csv(dataset_file_path)"
   ]
  },
  {
   "cell_type": "code",
   "execution_count": 6,
   "metadata": {
    "collapsed": true
   },
   "outputs": [],
   "source": [
    "X = dataset.loc[:].copy()"
   ]
  },
  {
   "cell_type": "code",
   "execution_count": 7,
   "metadata": {
    "collapsed": true
   },
   "outputs": [],
   "source": [
    "X.drop([\"stock_price_movement\",\"datetime_format\"],inplace=True,axis=1)"
   ]
  },
  {
   "cell_type": "code",
   "execution_count": 8,
   "metadata": {
    "collapsed": true
   },
   "outputs": [],
   "source": [
    "y = dataset[\"stock_price_movement\"].copy()"
   ]
  },
  {
   "cell_type": "markdown",
   "metadata": {},
   "source": [
    "## 分割数据集\n",
    "\n",
    "---"
   ]
  },
  {
   "cell_type": "code",
   "execution_count": 11,
   "metadata": {
    "collapsed": true
   },
   "outputs": [],
   "source": [
    "X_train, X_test, y_train, y_test = train_test_split(X, y, test_size=0.2, random_state=8)"
   ]
  },
  {
   "cell_type": "code",
   "execution_count": 12,
   "metadata": {
    "collapsed": true
   },
   "outputs": [],
   "source": [
    "def model_fit_and_predict(model,X_train,y_train,X_test):\n",
    "    model.fit(X_train,y_train)\n",
    "    return model.predict(X_test)"
   ]
  },
  {
   "cell_type": "code",
   "execution_count": 28,
   "metadata": {
    "collapsed": true
   },
   "outputs": [],
   "source": [
    "def model_accuracy(y_test,y_pred):\n",
    "    print(\"Classification report for classifier %s:\\n%s\\n\"\n",
    "        % (classifier, metrics.classification_report(y_test, y_pred)))\n",
    "    print(\"model accuracy: \", metrics.accuracy_score(y_test, y_pred))"
   ]
  },
  {
   "cell_type": "code",
   "execution_count": 89,
   "metadata": {
    "collapsed": true
   },
   "outputs": [],
   "source": [
    "classifier = svm.SVC(gamma=0.001)"
   ]
  },
  {
   "cell_type": "code",
   "execution_count": 90,
   "metadata": {
    "collapsed": true
   },
   "outputs": [],
   "source": [
    "from sklearn.naive_bayes import GaussianNB\n",
    "gnb = GaussianNB()"
   ]
  },
  {
   "cell_type": "code",
   "execution_count": 91,
   "metadata": {
    "collapsed": true
   },
   "outputs": [],
   "source": [
    "from sklearn.ensemble import RandomForestClassifier\n",
    "clf = RandomForestClassifier(n_estimators=40)"
   ]
  },
  {
   "cell_type": "code",
   "execution_count": 92,
   "metadata": {
    "collapsed": true
   },
   "outputs": [],
   "source": [
    "from sklearn import tree\n",
    "dtree = tree.DecisionTreeClassifier()"
   ]
  },
  {
   "cell_type": "code",
   "execution_count": 34,
   "metadata": {
    "collapsed": true
   },
   "outputs": [],
   "source": [
    "models = [{\"name\":\"svm\",\"model\":classifier},\n",
    "          {\"name\":\"navie bayes\",\"model\":gnb},\n",
    "          {\"name\":\"random forest\",\"model\":clf},\n",
    "          {\"name\":\"decision tree\",\"model\":dtree}]"
   ]
  },
  {
   "cell_type": "code",
   "execution_count": 35,
   "metadata": {},
   "outputs": [
    {
     "name": "stdout",
     "output_type": "stream",
     "text": [
      "==========================================================================================\n",
      "Using  svm to train and predict:\n",
      "------------------------------------------------------------------------------------------\n",
      "Classification report for classifier SVC(C=1.0, cache_size=200, class_weight=None, coef0=0.0,\n",
      "  decision_function_shape='ovr', degree=3, gamma=0.001, kernel='rbf',\n",
      "  max_iter=-1, probability=False, random_state=None, shrinking=True,\n",
      "  tol=0.001, verbose=False):\n",
      "             precision    recall  f1-score   support\n",
      "\n",
      "         -1       0.75      0.38      0.50         8\n",
      "          1       0.76      0.94      0.84        17\n",
      "\n",
      "avg / total       0.76      0.76      0.73        25\n",
      "\n",
      "\n",
      "model accuracy:  0.76\n",
      "==========================================================================================\n",
      "Using  navie bayes to train and predict:\n",
      "------------------------------------------------------------------------------------------\n",
      "Classification report for classifier SVC(C=1.0, cache_size=200, class_weight=None, coef0=0.0,\n",
      "  decision_function_shape='ovr', degree=3, gamma=0.001, kernel='rbf',\n",
      "  max_iter=-1, probability=False, random_state=None, shrinking=True,\n",
      "  tol=0.001, verbose=False):\n",
      "             precision    recall  f1-score   support\n",
      "\n",
      "         -1       0.50      0.12      0.20         8\n",
      "          1       0.70      0.94      0.80        17\n",
      "\n",
      "avg / total       0.63      0.68      0.61        25\n",
      "\n",
      "\n",
      "model accuracy:  0.68\n",
      "==========================================================================================\n",
      "Using  random forest to train and predict:\n",
      "------------------------------------------------------------------------------------------\n",
      "Classification report for classifier SVC(C=1.0, cache_size=200, class_weight=None, coef0=0.0,\n",
      "  decision_function_shape='ovr', degree=3, gamma=0.001, kernel='rbf',\n",
      "  max_iter=-1, probability=False, random_state=None, shrinking=True,\n",
      "  tol=0.001, verbose=False):\n",
      "             precision    recall  f1-score   support\n",
      "\n",
      "         -1       0.57      0.50      0.53         8\n",
      "          1       0.78      0.82      0.80        17\n",
      "\n",
      "avg / total       0.71      0.72      0.71        25\n",
      "\n",
      "\n",
      "model accuracy:  0.72\n",
      "==========================================================================================\n",
      "Using  decision tree to train and predict:\n",
      "------------------------------------------------------------------------------------------\n",
      "Classification report for classifier SVC(C=1.0, cache_size=200, class_weight=None, coef0=0.0,\n",
      "  decision_function_shape='ovr', degree=3, gamma=0.001, kernel='rbf',\n",
      "  max_iter=-1, probability=False, random_state=None, shrinking=True,\n",
      "  tol=0.001, verbose=False):\n",
      "             precision    recall  f1-score   support\n",
      "\n",
      "         -1       0.50      0.50      0.50         8\n",
      "          1       0.76      0.76      0.76        17\n",
      "\n",
      "avg / total       0.68      0.68      0.68        25\n",
      "\n",
      "\n",
      "model accuracy:  0.68\n"
     ]
    }
   ],
   "source": [
    "for model_item in models:\n",
    "    print(\"=\"*90)\n",
    "    print(\"Using \",model_item[\"name\"],\"to train and predict:\")\n",
    "    print('-'*90)\n",
    "    y_pred = model_fit_and_predict(model_item[\"model\"],X_train,y_train,X_test)\n",
    "    model_accuracy(y_test,y_pred)"
   ]
  },
  {
   "cell_type": "markdown",
   "metadata": {},
   "source": [
    "## test different params of random forest model"
   ]
  },
  {
   "cell_type": "code",
   "execution_count": 40,
   "metadata": {
    "collapsed": true
   },
   "outputs": [],
   "source": [
    "# store the different random forest models\n",
    "random_forest_models =[]"
   ]
  },
  {
   "cell_type": "code",
   "execution_count": 44,
   "metadata": {},
   "outputs": [],
   "source": [
    "# create different random forest models\n",
    "for i in range(1,10):\n",
    "    model_item = {\"name\":'',\"model\":''}\n",
    "    model_item[\"name\"] = \"random forest\",i*10\n",
    "    model_item[\"model\"] = RandomForestClassifier(n_estimators=i*10)\n",
    "    random_forest_models.append(model_item)"
   ]
  },
  {
   "cell_type": "code",
   "execution_count": 46,
   "metadata": {},
   "outputs": [
    {
     "name": "stdout",
     "output_type": "stream",
     "text": [
      "==========================================================================================\n",
      "Using  ('random forest', 10) to train and predict:\n",
      "------------------------------------------------------------------------------------------\n",
      "Classification report for classifier SVC(C=1.0, cache_size=200, class_weight=None, coef0=0.0,\n",
      "  decision_function_shape='ovr', degree=3, gamma=0.001, kernel='rbf',\n",
      "  max_iter=-1, probability=False, random_state=None, shrinking=True,\n",
      "  tol=0.001, verbose=False):\n",
      "             precision    recall  f1-score   support\n",
      "\n",
      "         -1       0.56      0.62      0.59         8\n",
      "          1       0.81      0.76      0.79        17\n",
      "\n",
      "avg / total       0.73      0.72      0.72        25\n",
      "\n",
      "\n",
      "model accuracy:  0.72\n",
      "==========================================================================================\n",
      "Using  ('random forest', 20) to train and predict:\n",
      "------------------------------------------------------------------------------------------\n",
      "Classification report for classifier SVC(C=1.0, cache_size=200, class_weight=None, coef0=0.0,\n",
      "  decision_function_shape='ovr', degree=3, gamma=0.001, kernel='rbf',\n",
      "  max_iter=-1, probability=False, random_state=None, shrinking=True,\n",
      "  tol=0.001, verbose=False):\n",
      "             precision    recall  f1-score   support\n",
      "\n",
      "         -1       0.45      0.62      0.53         8\n",
      "          1       0.79      0.65      0.71        17\n",
      "\n",
      "avg / total       0.68      0.64      0.65        25\n",
      "\n",
      "\n",
      "model accuracy:  0.64\n",
      "==========================================================================================\n",
      "Using  ('random forest', 30) to train and predict:\n",
      "------------------------------------------------------------------------------------------\n",
      "Classification report for classifier SVC(C=1.0, cache_size=200, class_weight=None, coef0=0.0,\n",
      "  decision_function_shape='ovr', degree=3, gamma=0.001, kernel='rbf',\n",
      "  max_iter=-1, probability=False, random_state=None, shrinking=True,\n",
      "  tol=0.001, verbose=False):\n",
      "             precision    recall  f1-score   support\n",
      "\n",
      "         -1       0.33      0.38      0.35         8\n",
      "          1       0.69      0.65      0.67        17\n",
      "\n",
      "avg / total       0.57      0.56      0.57        25\n",
      "\n",
      "\n",
      "model accuracy:  0.56\n",
      "==========================================================================================\n",
      "Using  ('random forest', 40) to train and predict:\n",
      "------------------------------------------------------------------------------------------\n",
      "Classification report for classifier SVC(C=1.0, cache_size=200, class_weight=None, coef0=0.0,\n",
      "  decision_function_shape='ovr', degree=3, gamma=0.001, kernel='rbf',\n",
      "  max_iter=-1, probability=False, random_state=None, shrinking=True,\n",
      "  tol=0.001, verbose=False):\n",
      "             precision    recall  f1-score   support\n",
      "\n",
      "         -1       0.50      0.50      0.50         8\n",
      "          1       0.76      0.76      0.76        17\n",
      "\n",
      "avg / total       0.68      0.68      0.68        25\n",
      "\n",
      "\n",
      "model accuracy:  0.68\n",
      "==========================================================================================\n",
      "Using  ('random forest', 50) to train and predict:\n",
      "------------------------------------------------------------------------------------------\n",
      "Classification report for classifier SVC(C=1.0, cache_size=200, class_weight=None, coef0=0.0,\n",
      "  decision_function_shape='ovr', degree=3, gamma=0.001, kernel='rbf',\n",
      "  max_iter=-1, probability=False, random_state=None, shrinking=True,\n",
      "  tol=0.001, verbose=False):\n",
      "             precision    recall  f1-score   support\n",
      "\n",
      "         -1       0.44      0.50      0.47         8\n",
      "          1       0.75      0.71      0.73        17\n",
      "\n",
      "avg / total       0.65      0.64      0.65        25\n",
      "\n",
      "\n",
      "model accuracy:  0.64\n",
      "==========================================================================================\n",
      "Using  ('random forest', 60) to train and predict:\n",
      "------------------------------------------------------------------------------------------\n",
      "Classification report for classifier SVC(C=1.0, cache_size=200, class_weight=None, coef0=0.0,\n",
      "  decision_function_shape='ovr', degree=3, gamma=0.001, kernel='rbf',\n",
      "  max_iter=-1, probability=False, random_state=None, shrinking=True,\n",
      "  tol=0.001, verbose=False):\n",
      "             precision    recall  f1-score   support\n",
      "\n",
      "         -1       0.50      0.62      0.56         8\n",
      "          1       0.80      0.71      0.75        17\n",
      "\n",
      "avg / total       0.70      0.68      0.69        25\n",
      "\n",
      "\n",
      "model accuracy:  0.68\n",
      "==========================================================================================\n",
      "Using  ('random forest', 70) to train and predict:\n",
      "------------------------------------------------------------------------------------------\n",
      "Classification report for classifier SVC(C=1.0, cache_size=200, class_weight=None, coef0=0.0,\n",
      "  decision_function_shape='ovr', degree=3, gamma=0.001, kernel='rbf',\n",
      "  max_iter=-1, probability=False, random_state=None, shrinking=True,\n",
      "  tol=0.001, verbose=False):\n",
      "             precision    recall  f1-score   support\n",
      "\n",
      "         -1       0.50      0.62      0.56         8\n",
      "          1       0.80      0.71      0.75        17\n",
      "\n",
      "avg / total       0.70      0.68      0.69        25\n",
      "\n",
      "\n",
      "model accuracy:  0.68\n",
      "==========================================================================================\n",
      "Using  ('random forest', 80) to train and predict:\n",
      "------------------------------------------------------------------------------------------\n",
      "Classification report for classifier SVC(C=1.0, cache_size=200, class_weight=None, coef0=0.0,\n",
      "  decision_function_shape='ovr', degree=3, gamma=0.001, kernel='rbf',\n",
      "  max_iter=-1, probability=False, random_state=None, shrinking=True,\n",
      "  tol=0.001, verbose=False):\n",
      "             precision    recall  f1-score   support\n",
      "\n",
      "         -1       0.62      0.62      0.62         8\n",
      "          1       0.82      0.82      0.82        17\n",
      "\n",
      "avg / total       0.76      0.76      0.76        25\n",
      "\n",
      "\n",
      "model accuracy:  0.76\n",
      "==========================================================================================\n",
      "Using  ('random forest', 90) to train and predict:\n",
      "------------------------------------------------------------------------------------------\n",
      "Classification report for classifier SVC(C=1.0, cache_size=200, class_weight=None, coef0=0.0,\n",
      "  decision_function_shape='ovr', degree=3, gamma=0.001, kernel='rbf',\n",
      "  max_iter=-1, probability=False, random_state=None, shrinking=True,\n",
      "  tol=0.001, verbose=False):\n",
      "             precision    recall  f1-score   support\n",
      "\n",
      "         -1       0.50      0.50      0.50         8\n",
      "          1       0.76      0.76      0.76        17\n",
      "\n",
      "avg / total       0.68      0.68      0.68        25\n",
      "\n",
      "\n",
      "model accuracy:  0.68\n"
     ]
    }
   ],
   "source": [
    "for model_item in random_forest_models:\n",
    "    print(\"=\"*90)\n",
    "    print(\"Using \",model_item[\"name\"],\"to train and predict:\")\n",
    "    print('-'*90)\n",
    "    y_pred = model_fit_and_predict(model_item[\"model\"],X_train,y_train,X_test)\n",
    "    model_accuracy(y_test,y_pred)"
   ]
  },
  {
   "cell_type": "markdown",
   "metadata": {},
   "source": [
    "## using Simple Ensemble Techniques"
   ]
  },
  {
   "cell_type": "code",
   "execution_count": 169,
   "metadata": {
    "collapsed": true
   },
   "outputs": [],
   "source": [
    "def simple_ensemble(models_list,X_train,y_train,X_test):\n",
    "    result = {}\n",
    "    for model_item in models_list:\n",
    "        model_name = model_item[\"name\"]\n",
    "        y_pred = model_fit_and_predict(model_item[\"model\"],X_train,y_train,X_test)\n",
    "        result[model_name] = list(y_pred)\n",
    "    result = pd.DataFrame(result)\n",
    "    result[\"sum\"] = result.apply(lambda x: sum(x),axis=1)\n",
    "    result[\"vote\"]= result.apply(lambda x: 1 if x[\"sum\"] > 0 else -1, axis=1)\n",
    "    return result[\"vote\"].copy()"
   ]
  },
  {
   "cell_type": "code",
   "execution_count": 239,
   "metadata": {
    "collapsed": true
   },
   "outputs": [],
   "source": [
    "test_models = [{\"name\":\"svm\",\"model\":classifier},\n",
    "               {\"name\":\"random forest\",\"model\":clf},\n",
    "               {\"name\":\"decision tree\",\"model\":dtree}]"
   ]
  },
  {
   "cell_type": "code",
   "execution_count": 215,
   "metadata": {},
   "outputs": [],
   "source": [
    "test_models_result = simple_ensemble(test_models,X_train,y_train,X_test)"
   ]
  },
  {
   "cell_type": "code",
   "execution_count": 216,
   "metadata": {},
   "outputs": [
    {
     "name": "stdout",
     "output_type": "stream",
     "text": [
      "Classification report for classifier SVC(C=1.0, cache_size=200, class_weight=None, coef0=0.0,\n",
      "  decision_function_shape='ovr', degree=3, gamma=0.001, kernel='rbf',\n",
      "  max_iter=-1, probability=False, random_state=None, shrinking=True,\n",
      "  tol=0.001, verbose=False):\n",
      "             precision    recall  f1-score   support\n",
      "\n",
      "         -1       0.57      0.50      0.53         8\n",
      "          1       0.78      0.82      0.80        17\n",
      "\n",
      "avg / total       0.71      0.72      0.71        25\n",
      "\n",
      "\n",
      "model accuracy:  0.72\n"
     ]
    }
   ],
   "source": [
    "model_accuracy(y_test,test_models_result)"
   ]
  },
  {
   "cell_type": "code",
   "execution_count": 220,
   "metadata": {},
   "outputs": [
    {
     "name": "stdout",
     "output_type": "stream",
     "text": [
      "Using these models:  ['svm', 'random forest', 'decision tree']\n",
      "with ensemble techniques to predict the stock price movement\n",
      "ensemble epoch  1\n",
      "==========================================================================================\n",
      "Classification report for classifier SVC(C=1.0, cache_size=200, class_weight=None, coef0=0.0,\n",
      "  decision_function_shape='ovr', degree=3, gamma=0.001, kernel='rbf',\n",
      "  max_iter=-1, probability=False, random_state=None, shrinking=True,\n",
      "  tol=0.001, verbose=False):\n",
      "             precision    recall  f1-score   support\n",
      "\n",
      "         -1       0.80      0.50      0.62         8\n",
      "          1       0.80      0.94      0.86        17\n",
      "\n",
      "avg / total       0.80      0.80      0.79        25\n",
      "\n",
      "\n",
      "model accuracy:  0.8\n",
      "------------------------------------------------------------------------------------------\n",
      "ensemble epoch  2\n",
      "==========================================================================================\n",
      "Classification report for classifier SVC(C=1.0, cache_size=200, class_weight=None, coef0=0.0,\n",
      "  decision_function_shape='ovr', degree=3, gamma=0.001, kernel='rbf',\n",
      "  max_iter=-1, probability=False, random_state=None, shrinking=True,\n",
      "  tol=0.001, verbose=False):\n",
      "             precision    recall  f1-score   support\n",
      "\n",
      "         -1       0.60      0.38      0.46         8\n",
      "          1       0.75      0.88      0.81        17\n",
      "\n",
      "avg / total       0.70      0.72      0.70        25\n",
      "\n",
      "\n",
      "model accuracy:  0.72\n",
      "------------------------------------------------------------------------------------------\n",
      "ensemble epoch  3\n",
      "==========================================================================================\n",
      "Classification report for classifier SVC(C=1.0, cache_size=200, class_weight=None, coef0=0.0,\n",
      "  decision_function_shape='ovr', degree=3, gamma=0.001, kernel='rbf',\n",
      "  max_iter=-1, probability=False, random_state=None, shrinking=True,\n",
      "  tol=0.001, verbose=False):\n",
      "             precision    recall  f1-score   support\n",
      "\n",
      "         -1       0.67      0.50      0.57         8\n",
      "          1       0.79      0.88      0.83        17\n",
      "\n",
      "avg / total       0.75      0.76      0.75        25\n",
      "\n",
      "\n",
      "model accuracy:  0.76\n",
      "------------------------------------------------------------------------------------------\n",
      "ensemble epoch  4\n",
      "==========================================================================================\n",
      "Classification report for classifier SVC(C=1.0, cache_size=200, class_weight=None, coef0=0.0,\n",
      "  decision_function_shape='ovr', degree=3, gamma=0.001, kernel='rbf',\n",
      "  max_iter=-1, probability=False, random_state=None, shrinking=True,\n",
      "  tol=0.001, verbose=False):\n",
      "             precision    recall  f1-score   support\n",
      "\n",
      "         -1       0.50      0.38      0.43         8\n",
      "          1       0.74      0.82      0.78        17\n",
      "\n",
      "avg / total       0.66      0.68      0.67        25\n",
      "\n",
      "\n",
      "model accuracy:  0.68\n",
      "------------------------------------------------------------------------------------------\n",
      "ensemble epoch  5\n",
      "==========================================================================================\n",
      "Classification report for classifier SVC(C=1.0, cache_size=200, class_weight=None, coef0=0.0,\n",
      "  decision_function_shape='ovr', degree=3, gamma=0.001, kernel='rbf',\n",
      "  max_iter=-1, probability=False, random_state=None, shrinking=True,\n",
      "  tol=0.001, verbose=False):\n",
      "             precision    recall  f1-score   support\n",
      "\n",
      "         -1       0.75      0.38      0.50         8\n",
      "          1       0.76      0.94      0.84        17\n",
      "\n",
      "avg / total       0.76      0.76      0.73        25\n",
      "\n",
      "\n",
      "model accuracy:  0.76\n",
      "------------------------------------------------------------------------------------------\n",
      "ensemble epoch  6\n",
      "==========================================================================================\n",
      "Classification report for classifier SVC(C=1.0, cache_size=200, class_weight=None, coef0=0.0,\n",
      "  decision_function_shape='ovr', degree=3, gamma=0.001, kernel='rbf',\n",
      "  max_iter=-1, probability=False, random_state=None, shrinking=True,\n",
      "  tol=0.001, verbose=False):\n",
      "             precision    recall  f1-score   support\n",
      "\n",
      "         -1       0.80      0.50      0.62         8\n",
      "          1       0.80      0.94      0.86        17\n",
      "\n",
      "avg / total       0.80      0.80      0.79        25\n",
      "\n",
      "\n",
      "model accuracy:  0.8\n",
      "------------------------------------------------------------------------------------------\n"
     ]
    }
   ],
   "source": [
    "models_name = []\n",
    "for item in test_models:\n",
    "    models_name.append(item[\"name\"])\n",
    "print(\"Using these models: \", models_name)\n",
    "print(\"with ensemble techniques to predict the stock price movement\")\n",
    "for i in range(6):\n",
    "    print(\"ensemble epoch \",i+1)\n",
    "    print(\"=\"*90)\n",
    "    test_models_result = simple_ensemble(test_models,X_train,y_train,X_test)\n",
    "    model_accuracy(y_test,test_models_result)\n",
    "    print('-'*90)"
   ]
  },
  {
   "cell_type": "code",
   "execution_count": 221,
   "metadata": {
    "collapsed": true
   },
   "outputs": [],
   "source": [
    "classifier = svm.SVC(gamma=0.001)"
   ]
  },
  {
   "cell_type": "code",
   "execution_count": 222,
   "metadata": {
    "collapsed": true
   },
   "outputs": [],
   "source": [
    "test_models = [{\"name\":\"svm\",\"model\":classifier}]"
   ]
  },
  {
   "cell_type": "code",
   "execution_count": 237,
   "metadata": {
    "collapsed": true
   },
   "outputs": [],
   "source": [
    "def model_test(test_models,epochs,ensemble=False):\n",
    "    models_name = []\n",
    "    for item in test_models:\n",
    "        models_name.append(item[\"name\"])\n",
    "    print(\"Testing these models: \", models_name)\n",
    "    if ensemble == True:\n",
    "        print(\"Using ensemble techniques to predict the stock price movement.\")\n",
    "    print('*'*90)\n",
    "    if ensemble == False:\n",
    "        for model_item in test_models:\n",
    "            print(\"Using {} model to train and predict the data\".format(model_item[\"name\"]))\n",
    "            for i in range(epochs):\n",
    "                print(\"=\"*90)\n",
    "                print(\"ensemble epoch \",i+1)\n",
    "                test_models_result = model_fit_and_predict(model_item[\"model\"],X_train,y_train,X_test)\n",
    "                model_accuracy(y_test,test_models_result)\n",
    "                print('-'*90)\n",
    "        return\n",
    "    if ensemble == True and len(test_models)%2 !=1:\n",
    "        print(\"Ensemble needs odd number of models!\")\n",
    "        return\n",
    "    for i in range(epochs):\n",
    "        print(\"ensemble epoch \",i+1)\n",
    "        print(\"=\"*90)\n",
    "        test_models_result = simple_ensemble(test_models,X_train,y_train,X_test)\n",
    "        model_accuracy(y_test,test_models_result)\n",
    "        print('-'*90)"
   ]
  },
  {
   "cell_type": "code",
   "execution_count": 238,
   "metadata": {},
   "outputs": [
    {
     "name": "stdout",
     "output_type": "stream",
     "text": [
      "Testing these models:  ['svm']\n",
      "********************************************************************************\n",
      "Using svm model to train and predict the data\n",
      "==========================================================================================\n",
      "ensemble epoch  1\n",
      "Classification report for classifier SVC(C=1.0, cache_size=200, class_weight=None, coef0=0.0,\n",
      "  decision_function_shape='ovr', degree=3, gamma=0.001, kernel='rbf',\n",
      "  max_iter=-1, probability=False, random_state=None, shrinking=True,\n",
      "  tol=0.001, verbose=False):\n",
      "             precision    recall  f1-score   support\n",
      "\n",
      "         -1       0.75      0.38      0.50         8\n",
      "          1       0.76      0.94      0.84        17\n",
      "\n",
      "avg / total       0.76      0.76      0.73        25\n",
      "\n",
      "\n",
      "model accuracy:  0.76\n",
      "------------------------------------------------------------------------------------------\n",
      "==========================================================================================\n",
      "ensemble epoch  2\n",
      "Classification report for classifier SVC(C=1.0, cache_size=200, class_weight=None, coef0=0.0,\n",
      "  decision_function_shape='ovr', degree=3, gamma=0.001, kernel='rbf',\n",
      "  max_iter=-1, probability=False, random_state=None, shrinking=True,\n",
      "  tol=0.001, verbose=False):\n",
      "             precision    recall  f1-score   support\n",
      "\n",
      "         -1       0.75      0.38      0.50         8\n",
      "          1       0.76      0.94      0.84        17\n",
      "\n",
      "avg / total       0.76      0.76      0.73        25\n",
      "\n",
      "\n",
      "model accuracy:  0.76\n",
      "------------------------------------------------------------------------------------------\n",
      "==========================================================================================\n",
      "ensemble epoch  3\n",
      "Classification report for classifier SVC(C=1.0, cache_size=200, class_weight=None, coef0=0.0,\n",
      "  decision_function_shape='ovr', degree=3, gamma=0.001, kernel='rbf',\n",
      "  max_iter=-1, probability=False, random_state=None, shrinking=True,\n",
      "  tol=0.001, verbose=False):\n",
      "             precision    recall  f1-score   support\n",
      "\n",
      "         -1       0.75      0.38      0.50         8\n",
      "          1       0.76      0.94      0.84        17\n",
      "\n",
      "avg / total       0.76      0.76      0.73        25\n",
      "\n",
      "\n",
      "model accuracy:  0.76\n",
      "------------------------------------------------------------------------------------------\n",
      "==========================================================================================\n",
      "ensemble epoch  4\n",
      "Classification report for classifier SVC(C=1.0, cache_size=200, class_weight=None, coef0=0.0,\n",
      "  decision_function_shape='ovr', degree=3, gamma=0.001, kernel='rbf',\n",
      "  max_iter=-1, probability=False, random_state=None, shrinking=True,\n",
      "  tol=0.001, verbose=False):\n",
      "             precision    recall  f1-score   support\n",
      "\n",
      "         -1       0.75      0.38      0.50         8\n",
      "          1       0.76      0.94      0.84        17\n",
      "\n",
      "avg / total       0.76      0.76      0.73        25\n",
      "\n",
      "\n",
      "model accuracy:  0.76\n",
      "------------------------------------------------------------------------------------------\n",
      "==========================================================================================\n",
      "ensemble epoch  5\n",
      "Classification report for classifier SVC(C=1.0, cache_size=200, class_weight=None, coef0=0.0,\n",
      "  decision_function_shape='ovr', degree=3, gamma=0.001, kernel='rbf',\n",
      "  max_iter=-1, probability=False, random_state=None, shrinking=True,\n",
      "  tol=0.001, verbose=False):\n",
      "             precision    recall  f1-score   support\n",
      "\n",
      "         -1       0.75      0.38      0.50         8\n",
      "          1       0.76      0.94      0.84        17\n",
      "\n",
      "avg / total       0.76      0.76      0.73        25\n",
      "\n",
      "\n",
      "model accuracy:  0.76\n",
      "------------------------------------------------------------------------------------------\n",
      "==========================================================================================\n",
      "ensemble epoch  6\n",
      "Classification report for classifier SVC(C=1.0, cache_size=200, class_weight=None, coef0=0.0,\n",
      "  decision_function_shape='ovr', degree=3, gamma=0.001, kernel='rbf',\n",
      "  max_iter=-1, probability=False, random_state=None, shrinking=True,\n",
      "  tol=0.001, verbose=False):\n",
      "             precision    recall  f1-score   support\n",
      "\n",
      "         -1       0.75      0.38      0.50         8\n",
      "          1       0.76      0.94      0.84        17\n",
      "\n",
      "avg / total       0.76      0.76      0.73        25\n",
      "\n",
      "\n",
      "model accuracy:  0.76\n",
      "------------------------------------------------------------------------------------------\n"
     ]
    }
   ],
   "source": [
    "model_test(test_models,6)"
   ]
  },
  {
   "cell_type": "code",
   "execution_count": 242,
   "metadata": {},
   "outputs": [
    {
     "name": "stdout",
     "output_type": "stream",
     "text": [
      "Testing these models:  ['svm', 'random forest', 'decision tree']\n",
      "********************************************************************************\n",
      "Using svm model to train and predict the data\n",
      "==========================================================================================\n",
      "ensemble epoch  1\n",
      "Classification report for classifier SVC(C=1.0, cache_size=200, class_weight=None, coef0=0.0,\n",
      "  decision_function_shape='ovr', degree=3, gamma=0.001, kernel='rbf',\n",
      "  max_iter=-1, probability=False, random_state=None, shrinking=True,\n",
      "  tol=0.001, verbose=False):\n",
      "             precision    recall  f1-score   support\n",
      "\n",
      "         -1       0.75      0.38      0.50         8\n",
      "          1       0.76      0.94      0.84        17\n",
      "\n",
      "avg / total       0.76      0.76      0.73        25\n",
      "\n",
      "\n",
      "model accuracy:  0.76\n",
      "------------------------------------------------------------------------------------------\n",
      "==========================================================================================\n",
      "ensemble epoch  2\n",
      "Classification report for classifier SVC(C=1.0, cache_size=200, class_weight=None, coef0=0.0,\n",
      "  decision_function_shape='ovr', degree=3, gamma=0.001, kernel='rbf',\n",
      "  max_iter=-1, probability=False, random_state=None, shrinking=True,\n",
      "  tol=0.001, verbose=False):\n",
      "             precision    recall  f1-score   support\n",
      "\n",
      "         -1       0.75      0.38      0.50         8\n",
      "          1       0.76      0.94      0.84        17\n",
      "\n",
      "avg / total       0.76      0.76      0.73        25\n",
      "\n",
      "\n",
      "model accuracy:  0.76\n",
      "------------------------------------------------------------------------------------------\n",
      "Using random forest model to train and predict the data\n",
      "==========================================================================================\n",
      "ensemble epoch  1\n",
      "Classification report for classifier SVC(C=1.0, cache_size=200, class_weight=None, coef0=0.0,\n",
      "  decision_function_shape='ovr', degree=3, gamma=0.001, kernel='rbf',\n",
      "  max_iter=-1, probability=False, random_state=None, shrinking=True,\n",
      "  tol=0.001, verbose=False):\n",
      "             precision    recall  f1-score   support\n",
      "\n",
      "         -1       0.62      0.62      0.62         8\n",
      "          1       0.82      0.82      0.82        17\n",
      "\n",
      "avg / total       0.76      0.76      0.76        25\n",
      "\n",
      "\n",
      "model accuracy:  0.76\n",
      "------------------------------------------------------------------------------------------\n",
      "==========================================================================================\n",
      "ensemble epoch  2\n",
      "Classification report for classifier SVC(C=1.0, cache_size=200, class_weight=None, coef0=0.0,\n",
      "  decision_function_shape='ovr', degree=3, gamma=0.001, kernel='rbf',\n",
      "  max_iter=-1, probability=False, random_state=None, shrinking=True,\n",
      "  tol=0.001, verbose=False):\n",
      "             precision    recall  f1-score   support\n",
      "\n",
      "         -1       0.43      0.38      0.40         8\n",
      "          1       0.72      0.76      0.74        17\n",
      "\n",
      "avg / total       0.63      0.64      0.63        25\n",
      "\n",
      "\n",
      "model accuracy:  0.64\n",
      "------------------------------------------------------------------------------------------\n",
      "Using decision tree model to train and predict the data\n",
      "==========================================================================================\n",
      "ensemble epoch  1\n",
      "Classification report for classifier SVC(C=1.0, cache_size=200, class_weight=None, coef0=0.0,\n",
      "  decision_function_shape='ovr', degree=3, gamma=0.001, kernel='rbf',\n",
      "  max_iter=-1, probability=False, random_state=None, shrinking=True,\n",
      "  tol=0.001, verbose=False):\n",
      "             precision    recall  f1-score   support\n",
      "\n",
      "         -1       0.38      0.38      0.38         8\n",
      "          1       0.71      0.71      0.71        17\n",
      "\n",
      "avg / total       0.60      0.60      0.60        25\n",
      "\n",
      "\n",
      "model accuracy:  0.6\n",
      "------------------------------------------------------------------------------------------\n",
      "==========================================================================================\n",
      "ensemble epoch  2\n",
      "Classification report for classifier SVC(C=1.0, cache_size=200, class_weight=None, coef0=0.0,\n",
      "  decision_function_shape='ovr', degree=3, gamma=0.001, kernel='rbf',\n",
      "  max_iter=-1, probability=False, random_state=None, shrinking=True,\n",
      "  tol=0.001, verbose=False):\n",
      "             precision    recall  f1-score   support\n",
      "\n",
      "         -1       0.43      0.38      0.40         8\n",
      "          1       0.72      0.76      0.74        17\n",
      "\n",
      "avg / total       0.63      0.64      0.63        25\n",
      "\n",
      "\n",
      "model accuracy:  0.64\n",
      "------------------------------------------------------------------------------------------\n"
     ]
    }
   ],
   "source": [
    "model_test(test_models,2,ensemble=False)"
   ]
  },
  {
   "cell_type": "code",
   "execution_count": null,
   "metadata": {
    "collapsed": true
   },
   "outputs": [],
   "source": []
  }
 ],
 "metadata": {
  "kernelspec": {
   "display_name": "tweet",
   "language": "python",
   "name": "tweet"
  },
  "language_info": {
   "codemirror_mode": {
    "name": "ipython",
    "version": 3
   },
   "file_extension": ".py",
   "mimetype": "text/x-python",
   "name": "python",
   "nbconvert_exporter": "python",
   "pygments_lexer": "ipython3",
   "version": "3.6.2"
  }
 },
 "nbformat": 4,
 "nbformat_minor": 2
}
