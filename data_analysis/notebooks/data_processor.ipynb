{
 "cells": [
  {
   "cell_type": "markdown",
   "metadata": {},
   "source": [
    "# Processing the tweets and get params for stock price movement"
   ]
  },
  {
   "cell_type": "code",
   "execution_count": 1,
   "metadata": {
    "collapsed": true
   },
   "outputs": [],
   "source": [
    "# import packages\n",
    "import numpy as np\n",
    "import pandas as pd\n",
    "from functools import partial"
   ]
  },
  {
   "cell_type": "code",
   "execution_count": 2,
   "metadata": {},
   "outputs": [],
   "source": [
    "# import utils\n",
    "from lib.preprocess import pattern_remove\n",
    "from lib.sentiment import get_score\n",
    "from functools import partial"
   ]
  },
  {
   "cell_type": "code",
   "execution_count": 35,
   "metadata": {
    "collapsed": true
   },
   "outputs": [],
   "source": [
    "# data file path\n",
    "data_files = \"./data/tweet.csv\""
   ]
  },
  {
   "cell_type": "code",
   "execution_count": 10,
   "metadata": {
    "collapsed": true
   },
   "outputs": [],
   "source": [
    "# params\n",
    "stock_name = \"AMZN\"\n",
    "company_name= \"Amazon\""
   ]
  },
  {
   "cell_type": "code",
   "execution_count": 36,
   "metadata": {},
   "outputs": [],
   "source": [
    "# import tweets\n",
    "data = pd.read_csv(data_files)"
   ]
  },
  {
   "cell_type": "code",
   "execution_count": 37,
   "metadata": {
    "collapsed": true
   },
   "outputs": [],
   "source": [
    "# clean the text content\n",
    "data[\"text_clean\"] = data.apply(pattern_remove,axis=1)"
   ]
  },
  {
   "cell_type": "code",
   "execution_count": 38,
   "metadata": {
    "collapsed": true
   },
   "outputs": [],
   "source": [
    "compound = partial(get_score, \"text_clean\", \"compound\")\n",
    "negative = partial(get_score, \"text_clean\", \"neg\")\n",
    "neutral = partial(get_score, \"text_clean\", \"neu\")\n",
    "positive = partial(get_score, \"text_clean\", \"pos\")"
   ]
  },
  {
   "cell_type": "code",
   "execution_count": 39,
   "metadata": {
    "collapsed": true
   },
   "outputs": [],
   "source": [
    "# using vader to analysis the context sentiment    \n",
    "data[\"compound\"] = data.apply(compound, axis=1)\n",
    "data[\"negative\"] = data.apply(negative, axis=1)\n",
    "data[\"neutral\"] = data.apply(neutral, axis=1)\n",
    "data[\"positive\"] = data.apply(positive, axis=1)"
   ]
  },
  {
   "cell_type": "code",
   "execution_count": 40,
   "metadata": {
    "collapsed": true
   },
   "outputs": [],
   "source": [
    "# format the date record\n",
    "data[\"datetime_format\"] = pd.to_datetime(data[\"datetime\"]).dt.date"
   ]
  },
  {
   "cell_type": "code",
   "execution_count": 41,
   "metadata": {
    "collapsed": true
   },
   "outputs": [],
   "source": [
    "def sentiment(row):\n",
    "    compound = row[\"compound\"]\n",
    "    if compound > 0:\n",
    "        return 1\n",
    "    elif compound < 0:\n",
    "        return -1\n",
    "    return 0"
   ]
  },
  {
   "cell_type": "code",
   "execution_count": 42,
   "metadata": {
    "collapsed": true
   },
   "outputs": [],
   "source": [
    "def is_favorite(row):\n",
    "    favorite=int(row[\"nbr_favorite\"])\n",
    "    if favorite > 0:\n",
    "        return 1\n",
    "    else:\n",
    "        return -1"
   ]
  },
  {
   "cell_type": "code",
   "execution_count": 43,
   "metadata": {
    "collapsed": true
   },
   "outputs": [],
   "source": [
    "# add sentiment classification\n",
    "data[\"sentiment\"] = data.apply(sentiment, axis=1)"
   ]
  },
  {
   "cell_type": "code",
   "execution_count": 44,
   "metadata": {
    "collapsed": true
   },
   "outputs": [],
   "source": [
    "# change te is_reply record\n",
    "data[\"is_reply\"] = data[\"is_reply\"].astype(int)"
   ]
  },
  {
   "cell_type": "code",
   "execution_count": 45,
   "metadata": {
    "collapsed": true
   },
   "outputs": [],
   "source": [
    "# add favoriate or not\n",
    "data[\"is_favorite\"] = data.apply(is_favorite, axis=1)"
   ]
  },
  {
   "cell_type": "code",
   "execution_count": 46,
   "metadata": {
    "collapsed": true
   },
   "outputs": [],
   "source": [
    "# add stocks and company infos to the data record\n",
    "data[\"stock\"] = \"AMZN\"\n",
    "data[\"company\"] = \"Amazon\""
   ]
  },
  {
   "cell_type": "code",
   "execution_count": 47,
   "metadata": {
    "collapsed": true
   },
   "outputs": [],
   "source": [
    "# drop empty value\n",
    "# TODO"
   ]
  },
  {
   "cell_type": "code",
   "execution_count": 48,
   "metadata": {
    "collapsed": true
   },
   "outputs": [],
   "source": [
    "# save the processed data\n",
    "processed_data_save_path = \"./result/preprocessed_data.csv\"\n",
    "data.to_csv(processed_data_save_path)"
   ]
  },
  {
   "cell_type": "markdown",
   "metadata": {},
   "source": [
    "## Mining params from tweets\n",
    "1. sentiment_distribution\n",
    "\n",
    "----"
   ]
  },
  {
   "cell_type": "markdown",
   "metadata": {},
   "source": [
    "### sentiment_distribution"
   ]
  },
  {
   "cell_type": "code",
   "execution_count": 49,
   "metadata": {
    "collapsed": true
   },
   "outputs": [],
   "source": [
    "def sentiment_distribution(raw_data):\n",
    "    \"\"\"\n",
    "    get the sentiment distribution from the raw data\n",
    "    :param raw_data: pandas.Dataframe cleaned & processed data\n",
    "    :return: pandas.Dataframe sentiment_distribution \n",
    "    example of the output sentiment_distribution:\n",
    "\n",
    "        datetime_format no_reply_neg no_reply_neu no_reply_pos replied_neg replied_neu replied_pos\n",
    "    0   2018-01-01 0.1070 0.0642 0.2193 0.1818 0.0535 0.3743\n",
    "    \"\"\"\n",
    "    data = raw_data.copy()\n",
    "    pivot = pd.pivot_table(data,\n",
    "        index=[\"datetime_format\"],\n",
    "        columns=[\"is_reply\",\"sentiment\"],\n",
    "        values=[\"ID\"],aggfunc=[lambda x: len(x)])\n",
    "    pivot[\"total\"] = pivot.apply(np.sum,axis=1)\n",
    "    pivot.columns = pivot.columns.droplevel([0,1])\n",
    "    pivot.columns = pivot.columns.map(lambda x :\"_\".join([str(m) for m in x]))\n",
    "    pivot.columns=[\"no_reply_neg\",\"no_reply_neu\",\n",
    "                                 \"no_reply_pos\",\"replied_neg\",\n",
    "                                 \"replied_neu\",\"replied_pos\",\"total\"]\n",
    "\n",
    "    sentiment_total = pivot.loc[:,\"total\"].copy()\n",
    "    normal_data = pivot.div(sentiment_total,axis=0)\n",
    "    normal_data = normal_data.applymap(lambda x: '%.4f' % x)\n",
    "\n",
    "    return normal_data.drop([\"total\"],axis=1).reset_index().copy()"
   ]
  },
  {
   "cell_type": "code",
   "execution_count": 50,
   "metadata": {
    "collapsed": true
   },
   "outputs": [],
   "source": [
    "sentiment_dis = sentiment_distribution(data)"
   ]
  },
  {
   "cell_type": "code",
   "execution_count": 55,
   "metadata": {},
   "outputs": [
    {
     "data": {
      "text/html": [
       "<div>\n",
       "<table border=\"1\" class=\"dataframe\">\n",
       "  <thead>\n",
       "    <tr style=\"text-align: right;\">\n",
       "      <th></th>\n",
       "      <th>datetime_format</th>\n",
       "      <th>no_reply_neg</th>\n",
       "      <th>no_reply_neu</th>\n",
       "      <th>no_reply_pos</th>\n",
       "      <th>replied_neg</th>\n",
       "      <th>replied_neu</th>\n",
       "      <th>replied_pos</th>\n",
       "    </tr>\n",
       "  </thead>\n",
       "  <tbody>\n",
       "    <tr>\n",
       "      <th>0</th>\n",
       "      <td>2018-01-01</td>\n",
       "      <td>0.1143</td>\n",
       "      <td>0.0667</td>\n",
       "      <td>0.6762</td>\n",
       "      <td>0.0381</td>\n",
       "      <td>0.0476</td>\n",
       "      <td>0.0571</td>\n",
       "    </tr>\n",
       "    <tr>\n",
       "      <th>1</th>\n",
       "      <td>2018-01-07</td>\n",
       "      <td>0.0857</td>\n",
       "      <td>0.0476</td>\n",
       "      <td>0.6762</td>\n",
       "      <td>0.0095</td>\n",
       "      <td>0.1143</td>\n",
       "      <td>0.0667</td>\n",
       "    </tr>\n",
       "    <tr>\n",
       "      <th>2</th>\n",
       "      <td>2018-01-13</td>\n",
       "      <td>0.1132</td>\n",
       "      <td>0.1415</td>\n",
       "      <td>0.5566</td>\n",
       "      <td>0.0283</td>\n",
       "      <td>0.0943</td>\n",
       "      <td>0.0660</td>\n",
       "    </tr>\n",
       "    <tr>\n",
       "      <th>3</th>\n",
       "      <td>2018-01-19</td>\n",
       "      <td>0.1429</td>\n",
       "      <td>0.1238</td>\n",
       "      <td>0.5619</td>\n",
       "      <td>0.0286</td>\n",
       "      <td>0.0952</td>\n",
       "      <td>0.0476</td>\n",
       "    </tr>\n",
       "    <tr>\n",
       "      <th>4</th>\n",
       "      <td>2018-01-25</td>\n",
       "      <td>0.1333</td>\n",
       "      <td>0.0857</td>\n",
       "      <td>0.5714</td>\n",
       "      <td>0.0286</td>\n",
       "      <td>0.0762</td>\n",
       "      <td>0.1048</td>\n",
       "    </tr>\n",
       "  </tbody>\n",
       "</table>\n",
       "</div>"
      ],
      "text/plain": [
       "  datetime_format no_reply_neg no_reply_neu no_reply_pos replied_neg  \\\n",
       "0      2018-01-01       0.1143       0.0667       0.6762      0.0381   \n",
       "1      2018-01-07       0.0857       0.0476       0.6762      0.0095   \n",
       "2      2018-01-13       0.1132       0.1415       0.5566      0.0283   \n",
       "3      2018-01-19       0.1429       0.1238       0.5619      0.0286   \n",
       "4      2018-01-25       0.1333       0.0857       0.5714      0.0286   \n",
       "\n",
       "  replied_neu replied_pos  \n",
       "0      0.0476      0.0571  \n",
       "1      0.1143      0.0667  \n",
       "2      0.0943      0.0660  \n",
       "3      0.0952      0.0476  \n",
       "4      0.0762      0.1048  "
      ]
     },
     "execution_count": 55,
     "metadata": {},
     "output_type": "execute_result"
    }
   ],
   "source": [
    "sentiment_dis.head()"
   ]
  },
  {
   "cell_type": "code",
   "execution_count": 56,
   "metadata": {
    "collapsed": true
   },
   "outputs": [],
   "source": [
    "# saving the params\n",
    "params_saving_path =\"./result/params.csv\""
   ]
  },
  {
   "cell_type": "code",
   "execution_count": 57,
   "metadata": {
    "collapsed": true
   },
   "outputs": [],
   "source": [
    "sentiment_dis.to_csv(params_saving_path)"
   ]
  },
  {
   "cell_type": "code",
   "execution_count": null,
   "metadata": {
    "collapsed": true
   },
   "outputs": [],
   "source": []
  }
 ],
 "metadata": {
  "kernelspec": {
   "display_name": "tweet",
   "language": "python",
   "name": "tweet"
  },
  "language_info": {
   "codemirror_mode": {
    "name": "ipython",
    "version": 3
   },
   "file_extension": ".py",
   "mimetype": "text/x-python",
   "name": "python",
   "nbconvert_exporter": "python",
   "pygments_lexer": "ipython3",
   "version": "3.6.2"
  }
 },
 "nbformat": 4,
 "nbformat_minor": 2
}
