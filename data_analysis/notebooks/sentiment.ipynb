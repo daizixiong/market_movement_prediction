{
 "cells": [
  {
   "cell_type": "markdown",
   "metadata": {},
   "source": [
    "# Nootebooks 1\n",
    "testing the usage of vade packages."
   ]
  },
  {
   "cell_type": "code",
   "execution_count": 5,
   "metadata": {
    "collapsed": true
   },
   "outputs": [],
   "source": [
    "from vaderSentiment.vaderSentiment import SentimentIntensityAnalyzer\n",
    "\n",
    "analyser = SentimentIntensityAnalyzer()"
   ]
  },
  {
   "cell_type": "code",
   "execution_count": 38,
   "metadata": {
    "collapsed": true
   },
   "outputs": [],
   "source": [
    "def sentiment_analyzer_scores(sentence):\n",
    "    score = analyser.polarity_scores(sentence)\n",
    "    print(score[\"compound\"])\n",
    "    print(score)\n",
    "    print(\"{:-<40} {}\".format(sentence, str(score)))\n",
    "    "
   ]
  },
  {
   "cell_type": "code",
   "execution_count": 39,
   "metadata": {},
   "outputs": [
    {
     "name": "stdout",
     "output_type": "stream",
     "text": [
      "0.7351\n",
      "{'neg': 0.0, 'neu': 0.326, 'pos': 0.674, 'compound': 0.7351}\n",
      "The phone is super cool.---------------- {'neg': 0.0, 'neu': 0.326, 'pos': 0.674, 'compound': 0.7351}\n"
     ]
    }
   ],
   "source": [
    "sentiment_analyzer_scores(\"The phone is super cool.\")"
   ]
  },
  {
   "cell_type": "code",
   "execution_count": 30,
   "metadata": {
    "collapsed": true
   },
   "outputs": [],
   "source": [
    "import numpy as np\n",
    "import pandas as pd"
   ]
  },
  {
   "cell_type": "code",
   "execution_count": 31,
   "metadata": {
    "collapsed": true
   },
   "outputs": [],
   "source": [
    "tweet_data = pd.read_csv(\"./data/tweet.csv\")"
   ]
  },
  {
   "cell_type": "code",
   "execution_count": 42,
   "metadata": {
    "scrolled": true
   },
   "outputs": [
    {
     "data": {
      "text/html": [
       "<div>\n",
       "<style scoped>\n",
       "    .dataframe tbody tr th:only-of-type {\n",
       "        vertical-align: middle;\n",
       "    }\n",
       "\n",
       "    .dataframe tbody tr th {\n",
       "        vertical-align: top;\n",
       "    }\n",
       "\n",
       "    .dataframe thead th {\n",
       "        text-align: right;\n",
       "    }\n",
       "</style>\n",
       "<table border=\"1\" class=\"dataframe\">\n",
       "  <thead>\n",
       "    <tr style=\"text-align: right;\">\n",
       "      <th></th>\n",
       "      <th>nbr_retweet</th>\n",
       "      <th>user_id</th>\n",
       "      <th>url</th>\n",
       "      <th>text</th>\n",
       "      <th>usernameTweet</th>\n",
       "      <th>datetime</th>\n",
       "      <th>is_reply</th>\n",
       "      <th>is_retweet</th>\n",
       "      <th>ID</th>\n",
       "      <th>nbr_reply</th>\n",
       "      <th>compound</th>\n",
       "      <th>neg</th>\n",
       "      <th>pos</th>\n",
       "      <th>neu</th>\n",
       "    </tr>\n",
       "  </thead>\n",
       "  <tbody>\n",
       "    <tr>\n",
       "      <th>0</th>\n",
       "      <td>0</td>\n",
       "      <td>918153255800262656</td>\n",
       "      <td>/STORMTIGER5/status/1116338582078337024</td>\n",
       "      <td>I've entered a #Giveaway  to #Win  a £15  / $1...</td>\n",
       "      <td>STORMTIGER5</td>\n",
       "      <td>2019-04-11 23:53:53</td>\n",
       "      <td>False</td>\n",
       "      <td>False</td>\n",
       "      <td>1116338582078337024</td>\n",
       "      <td>0</td>\n",
       "      <td>0.5574</td>\n",
       "      <td>0.0</td>\n",
       "      <td>0.235</td>\n",
       "      <td>0.765</td>\n",
       "    </tr>\n",
       "  </tbody>\n",
       "</table>\n",
       "</div>"
      ],
      "text/plain": [
       "   nbr_retweet             user_id                                      url  \\\n",
       "0            0  918153255800262656  /STORMTIGER5/status/1116338582078337024   \n",
       "\n",
       "                                                text usernameTweet  \\\n",
       "0  I've entered a #Giveaway  to #Win  a £15  / $1...   STORMTIGER5   \n",
       "\n",
       "              datetime  is_reply  is_retweet                   ID  nbr_reply  \\\n",
       "0  2019-04-11 23:53:53     False       False  1116338582078337024          0   \n",
       "\n",
       "   compound  neg    pos    neu  \n",
       "0    0.5574  0.0  0.235  0.765  "
      ]
     },
     "execution_count": 42,
     "metadata": {},
     "output_type": "execute_result"
    }
   ],
   "source": [
    "tweet_data.head(1)"
   ]
  },
  {
   "cell_type": "code",
   "execution_count": 35,
   "metadata": {
    "collapsed": true
   },
   "outputs": [],
   "source": [
    "def compound(row):\n",
    "    score = analyser.polarity_scores(row[\"text\"])\n",
    "    return score[\"compound\"]"
   ]
  },
  {
   "cell_type": "code",
   "execution_count": 36,
   "metadata": {
    "collapsed": true
   },
   "outputs": [],
   "source": [
    "tweet_data[\"compound\"] = tweet_data.apply(compound,axis=1)"
   ]
  },
  {
   "cell_type": "code",
   "execution_count": 40,
   "metadata": {
    "collapsed": true
   },
   "outputs": [],
   "source": [
    "def compound(row):\n",
    "    score = analyser.polarity_scores(row[\"text\"])\n",
    "    return score[\"compound\"]\n",
    "def negative(row):\n",
    "    score = analyser.polarity_scores(row[\"text\"])\n",
    "    return score[\"neg\"]\n",
    "def positive(row):\n",
    "    score = analyser.polarity_scores(row[\"text\"])\n",
    "    return score[\"pos\"]\n",
    "def neutral(row):\n",
    "    score = analyser.polarity_scores(row[\"text\"])\n",
    "    return score[\"neu\"]"
   ]
  },
  {
   "cell_type": "code",
   "execution_count": 41,
   "metadata": {
    "collapsed": true
   },
   "outputs": [],
   "source": [
    "tweet_data[\"neg\"] = tweet_data.apply(negative,axis=1)\n",
    "tweet_data[\"pos\"] = tweet_data.apply(positive,axis=1)\n",
    "tweet_data[\"neu\"] = tweet_data.apply(neutral,axis=1)"
   ]
  },
  {
   "cell_type": "code",
   "execution_count": 45,
   "metadata": {},
   "outputs": [
    {
     "name": "stdout",
     "output_type": "stream",
     "text": [
      "\u001b[1m\u001b[36mresults\u001b[m\u001b[m\r\n",
      "Untitled.ipynb\r\n",
      "\u001b[1m\u001b[36mdata\u001b[m\u001b[m\r\n"
     ]
    }
   ],
   "source": [
    "!ls -1t"
   ]
  },
  {
   "cell_type": "code",
   "execution_count": 44,
   "metadata": {
    "collapsed": true
   },
   "outputs": [],
   "source": [
    "!mkdir results"
   ]
  },
  {
   "cell_type": "code",
   "execution_count": 46,
   "metadata": {
    "collapsed": true
   },
   "outputs": [],
   "source": [
    "tweet_data.to_csv(\"./results/tweets_sentiment.csv\")"
   ]
  },
  {
   "cell_type": "code",
   "execution_count": 48,
   "metadata": {
    "collapsed": true
   },
   "outputs": [],
   "source": [
    "!open .\n"
   ]
  },
  {
   "cell_type": "code",
   "execution_count": null,
   "metadata": {
    "collapsed": true
   },
   "outputs": [],
   "source": []
  }
 ],
 "metadata": {
  "kernelspec": {
   "display_name": "Python (dlnd)",
   "language": "python",
   "name": "dlnd"
  },
  "language_info": {
   "codemirror_mode": {
    "name": "ipython",
    "version": 3
   },
   "file_extension": ".py",
   "mimetype": "text/x-python",
   "name": "python",
   "nbconvert_exporter": "python",
   "pygments_lexer": "ipython3",
   "version": "3.6.1"
  }
 },
 "nbformat": 4,
 "nbformat_minor": 2
}
