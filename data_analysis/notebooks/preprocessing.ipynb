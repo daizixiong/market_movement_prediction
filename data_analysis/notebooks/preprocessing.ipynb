{
 "cells": [
  {
   "cell_type": "markdown",
   "metadata": {},
   "source": [
    "# data preprocessing"
   ]
  },
  {
   "cell_type": "code",
   "execution_count": 1,
   "metadata": {
    "collapsed": true
   },
   "outputs": [],
   "source": [
    "from functools import partial"
   ]
  },
  {
   "cell_type": "code",
   "execution_count": 2,
   "metadata": {
    "collapsed": true
   },
   "outputs": [],
   "source": [
    "import numpy as np\n",
    "import pandas as pd\n",
    "import re"
   ]
  },
  {
   "cell_type": "code",
   "execution_count": 3,
   "metadata": {
    "collapsed": true
   },
   "outputs": [],
   "source": [
    "data = pd.read_csv(\"./tweet02.csv\")"
   ]
  },
  {
   "cell_type": "code",
   "execution_count": 4,
   "metadata": {},
   "outputs": [
    {
     "data": {
      "text/plain": [
       "0    NEw security access program a lot of companies...\n",
       "1    Bueno se le podria perdonar si hoy en dia su c...\n",
       "2    FREE 4 a limited time - You Poor Bastard!: Cla...\n",
       "Name: text, dtype: object"
      ]
     },
     "execution_count": 4,
     "metadata": {},
     "output_type": "execute_result"
    }
   ],
   "source": [
    "data.head(3)[\"text\"]"
   ]
  },
  {
   "cell_type": "code",
   "execution_count": 132,
   "metadata": {
    "collapsed": true
   },
   "outputs": [],
   "source": [
    "# using pattern to remove special string content function\n",
    "def pattern_replace(pattern,key,row,replace_text=\"\"):\n",
    "    target = row[key]\n",
    "    return re.sub(pattern,replace_text,target)"
   ]
  },
  {
   "cell_type": "code",
   "execution_count": 129,
   "metadata": {
    "collapsed": true
   },
   "outputs": [],
   "source": [
    "# using pattern to remove special string content function\n",
    "def pattern_replace(pattern,key,row,replace_text=\"\"):\n",
    "#     target = row[key]\n",
    "#     r = re.findall(pattern, target)\n",
    "#     if len(r) > 0:\n",
    "#         print(target)\n",
    "#     for i in r:\n",
    "#         element = [x for x in i if len(x) > 0]\n",
    "#         for ele in element:\n",
    "#             target = re.sub(ele, replace_text, target)\n",
    "#         target = re.sub(i, replace_text, target)\n",
    "#     try:\n",
    "#         for i in r:\n",
    "#             target = re.sub(i, replace_text, target)\n",
    "#     except Exception as e:\n",
    "#         print(e)\n",
    "#     if len(r) > 0:\n",
    "#         print(target)\n",
    "    return target "
   ]
  },
  {
   "cell_type": "code",
   "execution_count": 133,
   "metadata": {
    "collapsed": true
   },
   "outputs": [],
   "source": [
    "## remove stock mark, like $FB\n",
    "stocks_remove = partial(pattern_replace,\"\\$\\w*\",'text',replace_text=\"\")"
   ]
  },
  {
   "cell_type": "code",
   "execution_count": 134,
   "metadata": {
    "collapsed": true
   },
   "outputs": [],
   "source": [
    "## remove url string, like \"http://amazon.com\"\n",
    "urls_remove = partial(pattern_replace,r\"(http\\W+\\S+)|(https\\W+\\S+)\",'text',replace_text=\"\")"
   ]
  },
  {
   "cell_type": "markdown",
   "metadata": {},
   "source": [
    "## remove twitter handles (@user)"
   ]
  },
  {
   "cell_type": "code",
   "execution_count": 135,
   "metadata": {
    "collapsed": true
   },
   "outputs": [],
   "source": [
    "# remove twitter handles (@user)\n",
    "handles_remove = partial(pattern_replace,\"@[\\w]*\",'text',replace_text=\"\")"
   ]
  },
  {
   "cell_type": "code",
   "execution_count": 136,
   "metadata": {
    "collapsed": true
   },
   "outputs": [],
   "source": [
    "data[\"text_clean\"] = data.apply(handles_remove,axis=1)"
   ]
  },
  {
   "cell_type": "code",
   "execution_count": 137,
   "metadata": {},
   "outputs": [],
   "source": [
    "data[\"text_clean\"] = data.apply(urls_remove,axis=1)"
   ]
  },
  {
   "cell_type": "code",
   "execution_count": 138,
   "metadata": {},
   "outputs": [
    {
     "data": {
      "text/plain": [
       "0    NEw security access program a lot of companies...\n",
       "1    Bueno se le podria perdonar si hoy en dia su c...\n",
       "2    FREE 4 a limited time - You Poor Bastard!: Cla...\n",
       "3    「LOOMAGE INDIA ハンドメイド デニムラグマット ralitia 238」 を ...\n",
       "4    Seriously @amazon  when I ordered a mop, could...\n",
       "5    Books provide #wisdom  #inspiration  #knowledg...\n",
       "6    Rainbow Ankle Bracelet pride colors LGBT seed ...\n",
       "7           : remote control bugattis      via @amazon\n",
       "8    BUG-A-SALT 2.0 from Skell Inc. BUG-A-SALT 2.0 ...\n",
       "9    Sign the petition: Demand that @amazon  stop s...\n",
       "Name: text_clean, dtype: object"
      ]
     },
     "execution_count": 138,
     "metadata": {},
     "output_type": "execute_result"
    }
   ],
   "source": [
    "data.head(10)[\"text_clean\"]"
   ]
  },
  {
   "cell_type": "markdown",
   "metadata": {},
   "source": [
    "## test\n",
    "\n",
    "---"
   ]
  },
  {
   "cell_type": "code",
   "execution_count": 49,
   "metadata": {},
   "outputs": [
    {
     "data": {
      "text/plain": [
       "0    NEw security access program a lot of companies...\n",
       "1    Bueno se le podria perdonar si hoy en dia su c...\n",
       "2    FREE 4 a limited time - You Poor Bastard!: Cla...\n",
       "3    「LOOMAGE INDIA ハンドメイド デニムラグマット ralitia 238」 を ...\n",
       "4    Seriously   when I ordered a mop, couldn’t you...\n",
       "5    Books provide #wisdom  #inspiration  #knowledg...\n",
       "6    Rainbow Ankle Bracelet pride colors LGBT seed ...\n",
       "7    http:// Amazon.com   : remote control bugattis...\n",
       "8    BUG-A-SALT 2.0 from Skell Inc. BUG-A-SALT 2.0 ...\n",
       "9    Sign the petition: Demand that   stop selling ...\n",
       "Name: text_clean, dtype: object"
      ]
     },
     "execution_count": 49,
     "metadata": {},
     "output_type": "execute_result"
    }
   ],
   "source": [
    "data.head(10)['text_clean']"
   ]
  },
  {
   "cell_type": "code",
   "execution_count": 139,
   "metadata": {},
   "outputs": [
    {
     "data": {
      "text/plain": [
       "0    NEw security access program a lot of companies...\n",
       "1    Bueno se le podria perdonar si hoy en dia su c...\n",
       "2    FREE 4 a limited time - You Poor Bastard!: Cla...\n",
       "3    「LOOMAGE INDIA ハンドメイド デニムラグマット ralitia 238」 を ...\n",
       "4    Seriously @amazon  when I ordered a mop, could...\n",
       "5    Books provide #wisdom  #inspiration  #knowledg...\n",
       "6    Rainbow Ankle Bracelet pride colors LGBT seed ...\n",
       "7    http:// Amazon.com   : remote control bugattis...\n",
       "8    BUG-A-SALT 2.0 from Skell Inc. BUG-A-SALT 2.0 ...\n",
       "9    Sign the petition: Demand that @amazon  stop s...\n",
       "Name: text, dtype: object"
      ]
     },
     "execution_count": 139,
     "metadata": {},
     "output_type": "execute_result"
    }
   ],
   "source": [
    "data.head(10)['text']"
   ]
  },
  {
   "cell_type": "markdown",
   "metadata": {},
   "source": [
    "## Removing Short Words"
   ]
  },
  {
   "cell_type": "code",
   "execution_count": 13,
   "metadata": {
    "collapsed": true
   },
   "outputs": [],
   "source": [
    "# Removing Short Words\n",
    "def shorts_remove(row,key=\"text\",length=3):\n",
    "    target = row[key]\n",
    "    words_list = target.split()\n",
    "    words_list = [x for x in words_list if len(x) >= length]\n",
    "    return ' '.join(words_list)"
   ]
  },
  {
   "cell_type": "code",
   "execution_count": 14,
   "metadata": {
    "collapsed": true
   },
   "outputs": [],
   "source": [
    "data[\"text_tidy\"] = data.apply(shorts_remove,axis=1)"
   ]
  },
  {
   "cell_type": "markdown",
   "metadata": {},
   "source": [
    "## test"
   ]
  },
  {
   "cell_type": "code",
   "execution_count": 15,
   "metadata": {},
   "outputs": [
    {
     "data": {
      "text/plain": [
       "0    NEw security access program a lot of companies...\n",
       "1    Bueno se le podria perdonar si hoy en dia su c...\n",
       "2    FREE 4 a limited time - You Poor Bastard!: Cla...\n",
       "3    「LOOMAGE INDIA ハンドメイド デニムラグマット ralitia 238」 を ...\n",
       "4    Seriously @amazon  when I ordered a mop, could...\n",
       "5    Books provide #wisdom  #inspiration  #knowledg...\n",
       "6    Rainbow Ankle Bracelet pride colors LGBT seed ...\n",
       "7    http:// Amazon.com   : remote control bugattis...\n",
       "8    BUG-A-SALT 2.0 from Skell Inc. BUG-A-SALT 2.0 ...\n",
       "9    Sign the petition: Demand that @amazon  stop s...\n",
       "Name: text, dtype: object"
      ]
     },
     "execution_count": 15,
     "metadata": {},
     "output_type": "execute_result"
    }
   ],
   "source": [
    "data.head(10)['text']"
   ]
  },
  {
   "cell_type": "code",
   "execution_count": 16,
   "metadata": {},
   "outputs": [
    {
     "data": {
      "text/plain": [
       "0    NEw security access program lot companies are ...\n",
       "1    Bueno podria perdonar hoy dia conocimiento fue...\n",
       "2    FREE limited time You Poor Bastard!: Classic R...\n",
       "3    「LOOMAGE INDIA ハンドメイド デニムラグマット ralitia 238」 10...\n",
       "4    Seriously @amazon when ordered mop, couldn’t y...\n",
       "5    Books provide #wisdom #inspiration #knowledge ...\n",
       "6    Rainbow Ankle Bracelet pride colors LGBT seed ...\n",
       "7    http:// Amazon.com remote control bugattis htt...\n",
       "8    BUG-A-SALT 2.0 from Skell Inc. BUG-A-SALT 2.0 ...\n",
       "9    Sign the petition: Demand that @amazon stop se...\n",
       "Name: text_tidy, dtype: object"
      ]
     },
     "execution_count": 16,
     "metadata": {},
     "output_type": "execute_result"
    }
   ],
   "source": [
    "data.head(10)[\"text_tidy\"]"
   ]
  },
  {
   "cell_type": "markdown",
   "metadata": {},
   "source": [
    "## Removing Punctuations, Numbers, and Special Characters"
   ]
  },
  {
   "cell_type": "code",
   "execution_count": 86,
   "metadata": {
    "collapsed": true
   },
   "outputs": [],
   "source": [
    "# combi['tidy_tweet'] = combi['tidy_tweet'].str.replace(\"[^a-zA-Z#]\", \" \")\n",
    "data[\"text_char_demo\"] = data[\"text\"].str.replace(\"[^a-zA-Z#]\", \" \")"
   ]
  },
  {
   "cell_type": "code",
   "execution_count": 87,
   "metadata": {},
   "outputs": [
    {
     "data": {
      "text/plain": [
       "0    NEw security access program a lot of companies...\n",
       "1    Bueno se le podria perdonar si hoy en dia su c...\n",
       "2    FREE   a limited time   You Poor Bastard   Cla...\n",
       "3     LOOMAGE INDIA                 ralitia        ...\n",
       "4    Seriously  amazon  when I ordered a mop  could...\n",
       "5    Books provide #wisdom  #inspiration  #knowledg...\n",
       "6    Rainbow Ankle Bracelet pride colors LGBT seed ...\n",
       "7    http    Amazon com     remote control bugattis...\n",
       "8    BUG A SALT     from Skell Inc  BUG A SALT     ...\n",
       "9    Sign the petition  Demand that  amazon  stop s...\n",
       "Name: text_char_demo, dtype: object"
      ]
     },
     "execution_count": 87,
     "metadata": {},
     "output_type": "execute_result"
    }
   ],
   "source": [
    "data.head(10)[\"text_char_demo\"]"
   ]
  },
  {
   "cell_type": "code",
   "execution_count": null,
   "metadata": {
    "collapsed": true
   },
   "outputs": [],
   "source": []
  }
 ],
 "metadata": {
  "kernelspec": {
   "display_name": "tweet",
   "language": "python",
   "name": "tweet"
  },
  "language_info": {
   "codemirror_mode": {
    "name": "ipython",
    "version": 3
   },
   "file_extension": ".py",
   "mimetype": "text/x-python",
   "name": "python",
   "nbconvert_exporter": "python",
   "pygments_lexer": "ipython3",
   "version": "3.6.2"
  }
 },
 "nbformat": 4,
 "nbformat_minor": 2
}
