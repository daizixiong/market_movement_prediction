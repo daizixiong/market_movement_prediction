{
 "cells": [
  {
   "cell_type": "markdown",
   "metadata": {},
   "source": [
    "# 数据预处理"
   ]
  },
  {
   "cell_type": "code",
   "execution_count": 1,
   "metadata": {
    "collapsed": true
   },
   "outputs": [],
   "source": [
    "import numpy as np\n",
    "import pandas as pd\n",
    "from functools import partial"
   ]
  },
  {
   "cell_type": "code",
   "execution_count": 2,
   "metadata": {
    "collapsed": true
   },
   "outputs": [],
   "source": [
    "from lib.preprocess import pattern_remove\n",
    "from lib.sentiment import get_score"
   ]
  },
  {
   "cell_type": "code",
   "execution_count": 3,
   "metadata": {
    "collapsed": true
   },
   "outputs": [],
   "source": [
    "pattern_remove?"
   ]
  },
  {
   "cell_type": "markdown",
   "metadata": {},
   "source": [
    "## 导入测试数据\n",
    "---"
   ]
  },
  {
   "cell_type": "code",
   "execution_count": 4,
   "metadata": {
    "collapsed": true
   },
   "outputs": [],
   "source": [
    "test_data_filepath = \"./data/tweet.csv\""
   ]
  },
  {
   "cell_type": "code",
   "execution_count": 5,
   "metadata": {
    "collapsed": true
   },
   "outputs": [],
   "source": [
    "data = pd.read_csv(test_data_filepath)"
   ]
  },
  {
   "cell_type": "code",
   "execution_count": 6,
   "metadata": {},
   "outputs": [
    {
     "data": {
      "text/html": [
       "<div>\n",
       "<table border=\"1\" class=\"dataframe\">\n",
       "  <thead>\n",
       "    <tr style=\"text-align: right;\">\n",
       "      <th></th>\n",
       "      <th>nbr_retweet</th>\n",
       "      <th>user_id</th>\n",
       "      <th>url</th>\n",
       "      <th>text</th>\n",
       "      <th>usernameTweet</th>\n",
       "      <th>datetime</th>\n",
       "      <th>is_reply</th>\n",
       "      <th>is_retweet</th>\n",
       "      <th>ID</th>\n",
       "      <th>nbr_reply</th>\n",
       "    </tr>\n",
       "  </thead>\n",
       "  <tbody>\n",
       "    <tr>\n",
       "      <th>0</th>\n",
       "      <td>0</td>\n",
       "      <td>361550292</td>\n",
       "      <td>/waltgolf3/status/1013207446532296705</td>\n",
       "      <td>Get your facts straight  or  get off the kool ...</td>\n",
       "      <td>waltgolf3</td>\n",
       "      <td>2018-06-30 23:47:34</td>\n",
       "      <td>True</td>\n",
       "      <td>False</td>\n",
       "      <td>1013207446532296705</td>\n",
       "      <td>0</td>\n",
       "    </tr>\n",
       "    <tr>\n",
       "      <th>1</th>\n",
       "      <td>0</td>\n",
       "      <td>734185973114773504</td>\n",
       "      <td>/PirateNinjaFrog/status/1013201101468807169</td>\n",
       "      <td>Unemployment and illegal immigration have been...</td>\n",
       "      <td>PirateNinjaFrog</td>\n",
       "      <td>2018-06-30 23:22:21</td>\n",
       "      <td>True</td>\n",
       "      <td>False</td>\n",
       "      <td>1013201101468807169</td>\n",
       "      <td>0</td>\n",
       "    </tr>\n",
       "    <tr>\n",
       "      <th>2</th>\n",
       "      <td>0</td>\n",
       "      <td>3073317560</td>\n",
       "      <td>/aaronauto2015/status/1013198130383327232</td>\n",
       "      <td>Need a Quality Used Engine for your Imported C...</td>\n",
       "      <td>aaronauto2015</td>\n",
       "      <td>2018-06-30 23:10:33</td>\n",
       "      <td>False</td>\n",
       "      <td>False</td>\n",
       "      <td>1013198130383327232</td>\n",
       "      <td>0</td>\n",
       "    </tr>\n",
       "    <tr>\n",
       "      <th>3</th>\n",
       "      <td>0</td>\n",
       "      <td>2262994542</td>\n",
       "      <td>/jkw_iii/status/1013197092267921412</td>\n",
       "      <td>So, if that works for you, my d land  price  c...</td>\n",
       "      <td>jkw_iii</td>\n",
       "      <td>2018-06-30 23:06:25</td>\n",
       "      <td>True</td>\n",
       "      <td>False</td>\n",
       "      <td>1013197092267921412</td>\n",
       "      <td>1</td>\n",
       "    </tr>\n",
       "    <tr>\n",
       "      <th>4</th>\n",
       "      <td>0</td>\n",
       "      <td>949111167439589376</td>\n",
       "      <td>/podburnout/status/1013196248030089217</td>\n",
       "      <td>Hmm just a guess: maybe the wealthy pulled the...</td>\n",
       "      <td>podburnout</td>\n",
       "      <td>2018-06-30 23:03:04</td>\n",
       "      <td>False</td>\n",
       "      <td>False</td>\n",
       "      <td>1013196248030089217</td>\n",
       "      <td>0</td>\n",
       "    </tr>\n",
       "  </tbody>\n",
       "</table>\n",
       "</div>"
      ],
      "text/plain": [
       "   nbr_retweet             user_id  \\\n",
       "0            0           361550292   \n",
       "1            0  734185973114773504   \n",
       "2            0          3073317560   \n",
       "3            0          2262994542   \n",
       "4            0  949111167439589376   \n",
       "\n",
       "                                           url  \\\n",
       "0        /waltgolf3/status/1013207446532296705   \n",
       "1  /PirateNinjaFrog/status/1013201101468807169   \n",
       "2    /aaronauto2015/status/1013198130383327232   \n",
       "3          /jkw_iii/status/1013197092267921412   \n",
       "4       /podburnout/status/1013196248030089217   \n",
       "\n",
       "                                                text    usernameTweet  \\\n",
       "0  Get your facts straight  or  get off the kool ...        waltgolf3   \n",
       "1  Unemployment and illegal immigration have been...  PirateNinjaFrog   \n",
       "2  Need a Quality Used Engine for your Imported C...    aaronauto2015   \n",
       "3  So, if that works for you, my d land  price  c...          jkw_iii   \n",
       "4  Hmm just a guess: maybe the wealthy pulled the...       podburnout   \n",
       "\n",
       "              datetime is_reply is_retweet                   ID  nbr_reply  \n",
       "0  2018-06-30 23:47:34     True      False  1013207446532296705          0  \n",
       "1  2018-06-30 23:22:21     True      False  1013201101468807169          0  \n",
       "2  2018-06-30 23:10:33    False      False  1013198130383327232          0  \n",
       "3  2018-06-30 23:06:25     True      False  1013197092267921412          1  \n",
       "4  2018-06-30 23:03:04    False      False  1013196248030089217          0  "
      ]
     },
     "execution_count": 6,
     "metadata": {},
     "output_type": "execute_result"
    }
   ],
   "source": [
    "data.head(5)"
   ]
  },
  {
   "cell_type": "code",
   "execution_count": 7,
   "metadata": {
    "collapsed": true
   },
   "outputs": [],
   "source": [
    "data[\"text_clean\"] = data.apply(pattern_remove,axis=1)"
   ]
  },
  {
   "cell_type": "code",
   "execution_count": 8,
   "metadata": {},
   "outputs": [
    {
     "data": {
      "text/plain": [
       "0     Get your facts straight get off the kool aid t...\n",
       "1     Unemployment and illegal immigration have been...\n",
       "2     Need Quality Used Engine for your Imported Car...\n",
       "3     that works for you land price can pricing did ...\n",
       "4     Hmm just guess maybe the wealthy pulled their ...\n",
       "5     wasn referring one specific stock Plenty Just ...\n",
       "6     Are you Bullish Bearish #Microsoft Leverage Re...\n",
       "7     you buy the entire stock single item you are t...\n",
       "8     not Neither Secretary Clinton President Obama ...\n",
       "9     Are you Bullish Bearish #Google Leverage Regis...\n",
       "10    They say the most powerful factor investing ti...\n",
       "11    Obama used fake reports people being turned aw...\n",
       "12    god expected interviewing him would more suite...\n",
       "13    The best way gain financial market currency st...\n",
       "14    #corporate #tax #cut doesn increase #investmen...\n",
       "15    Hmm can entirely separate what know about the ...\n",
       "16    What stupid article are strong bull market any...\n",
       "17    Big difference Stock market reflects the colle...\n",
       "18    Are you Bullish Bearish #Facebook Leverage Reg...\n",
       "19    Plus different than the stock market you see g...\n",
       "Name: text_clean, dtype: object"
      ]
     },
     "execution_count": 8,
     "metadata": {},
     "output_type": "execute_result"
    }
   ],
   "source": [
    "data.head(20)[\"text_clean\"]"
   ]
  },
  {
   "cell_type": "code",
   "execution_count": 9,
   "metadata": {
    "collapsed": true
   },
   "outputs": [],
   "source": [
    "compound = partial(get_score,\"text_clean\",\"compound\")\n",
    "negative = partial(get_score,\"text_clean\",\"neg\")\n",
    "neutral = partial(get_score,\"text_clean\",\"neu\")\n",
    "positive = partial(get_score,\"text_clean\",\"pos\")"
   ]
  },
  {
   "cell_type": "code",
   "execution_count": 10,
   "metadata": {
    "collapsed": true
   },
   "outputs": [],
   "source": [
    "data[\"compound\"] = data.apply(compound,axis=1)\n",
    "data[\"negative\"] = data.apply(negative,axis=1)\n",
    "data[\"neutral\"] = data.apply(neutral,axis=1)\n",
    "data[\"positive\"] = data.apply(positive,axis=1)"
   ]
  },
  {
   "cell_type": "code",
   "execution_count": 29,
   "metadata": {},
   "outputs": [
    {
     "data": {
      "text/html": [
       "<div>\n",
       "<table border=\"1\" class=\"dataframe\">\n",
       "  <thead>\n",
       "    <tr style=\"text-align: right;\">\n",
       "      <th></th>\n",
       "      <th>nbr_retweet</th>\n",
       "      <th>user_id</th>\n",
       "      <th>url</th>\n",
       "      <th>text</th>\n",
       "      <th>usernameTweet</th>\n",
       "      <th>datetime</th>\n",
       "      <th>is_reply</th>\n",
       "      <th>is_retweet</th>\n",
       "      <th>ID</th>\n",
       "      <th>nbr_reply</th>\n",
       "      <th>text_clean</th>\n",
       "      <th>compound</th>\n",
       "      <th>negative</th>\n",
       "      <th>neutral</th>\n",
       "      <th>positive</th>\n",
       "      <th>stock</th>\n",
       "      <th>company</th>\n",
       "      <th>datetime_format</th>\n",
       "      <th>sentiment</th>\n",
       "    </tr>\n",
       "  </thead>\n",
       "  <tbody>\n",
       "    <tr>\n",
       "      <th>0</th>\n",
       "      <td>0</td>\n",
       "      <td>361550292</td>\n",
       "      <td>/waltgolf3/status/1013207446532296705</td>\n",
       "      <td>Get your facts straight  or  get off the kool ...</td>\n",
       "      <td>waltgolf3</td>\n",
       "      <td>2018-06-30 23:47:34</td>\n",
       "      <td>True</td>\n",
       "      <td>False</td>\n",
       "      <td>1013207446532296705</td>\n",
       "      <td>0</td>\n",
       "      <td>Get your facts straight get off the kool aid t...</td>\n",
       "      <td>-0.7380</td>\n",
       "      <td>0.203</td>\n",
       "      <td>0.749</td>\n",
       "      <td>0.047</td>\n",
       "      <td>AMZN</td>\n",
       "      <td>Amazon</td>\n",
       "      <td>2018-06-30</td>\n",
       "      <td>-1</td>\n",
       "    </tr>\n",
       "    <tr>\n",
       "      <th>1</th>\n",
       "      <td>0</td>\n",
       "      <td>734185973114773504</td>\n",
       "      <td>/PirateNinjaFrog/status/1013201101468807169</td>\n",
       "      <td>Unemployment and illegal immigration have been...</td>\n",
       "      <td>PirateNinjaFrog</td>\n",
       "      <td>2018-06-30 23:22:21</td>\n",
       "      <td>True</td>\n",
       "      <td>False</td>\n",
       "      <td>1013201101468807169</td>\n",
       "      <td>0</td>\n",
       "      <td>Unemployment and illegal immigration have been...</td>\n",
       "      <td>-0.8438</td>\n",
       "      <td>0.295</td>\n",
       "      <td>0.605</td>\n",
       "      <td>0.099</td>\n",
       "      <td>AMZN</td>\n",
       "      <td>Amazon</td>\n",
       "      <td>2018-06-30</td>\n",
       "      <td>-1</td>\n",
       "    </tr>\n",
       "    <tr>\n",
       "      <th>2</th>\n",
       "      <td>0</td>\n",
       "      <td>3073317560</td>\n",
       "      <td>/aaronauto2015/status/1013198130383327232</td>\n",
       "      <td>Need a Quality Used Engine for your Imported C...</td>\n",
       "      <td>aaronauto2015</td>\n",
       "      <td>2018-06-30 23:10:33</td>\n",
       "      <td>False</td>\n",
       "      <td>False</td>\n",
       "      <td>1013198130383327232</td>\n",
       "      <td>0</td>\n",
       "      <td>Need Quality Used Engine for your Imported Car...</td>\n",
       "      <td>0.2960</td>\n",
       "      <td>0.000</td>\n",
       "      <td>0.939</td>\n",
       "      <td>0.061</td>\n",
       "      <td>AMZN</td>\n",
       "      <td>Amazon</td>\n",
       "      <td>2018-06-30</td>\n",
       "      <td>1</td>\n",
       "    </tr>\n",
       "    <tr>\n",
       "      <th>3</th>\n",
       "      <td>0</td>\n",
       "      <td>2262994542</td>\n",
       "      <td>/jkw_iii/status/1013197092267921412</td>\n",
       "      <td>So, if that works for you, my d land  price  c...</td>\n",
       "      <td>jkw_iii</td>\n",
       "      <td>2018-06-30 23:06:25</td>\n",
       "      <td>True</td>\n",
       "      <td>False</td>\n",
       "      <td>1013197092267921412</td>\n",
       "      <td>1</td>\n",
       "      <td>that works for you land price can pricing did ...</td>\n",
       "      <td>0.6369</td>\n",
       "      <td>0.000</td>\n",
       "      <td>0.802</td>\n",
       "      <td>0.198</td>\n",
       "      <td>AMZN</td>\n",
       "      <td>Amazon</td>\n",
       "      <td>2018-06-30</td>\n",
       "      <td>1</td>\n",
       "    </tr>\n",
       "  </tbody>\n",
       "</table>\n",
       "</div>"
      ],
      "text/plain": [
       "   nbr_retweet             user_id  \\\n",
       "0            0           361550292   \n",
       "1            0  734185973114773504   \n",
       "2            0          3073317560   \n",
       "3            0          2262994542   \n",
       "\n",
       "                                           url  \\\n",
       "0        /waltgolf3/status/1013207446532296705   \n",
       "1  /PirateNinjaFrog/status/1013201101468807169   \n",
       "2    /aaronauto2015/status/1013198130383327232   \n",
       "3          /jkw_iii/status/1013197092267921412   \n",
       "\n",
       "                                                text    usernameTweet  \\\n",
       "0  Get your facts straight  or  get off the kool ...        waltgolf3   \n",
       "1  Unemployment and illegal immigration have been...  PirateNinjaFrog   \n",
       "2  Need a Quality Used Engine for your Imported C...    aaronauto2015   \n",
       "3  So, if that works for you, my d land  price  c...          jkw_iii   \n",
       "\n",
       "              datetime is_reply is_retweet                   ID  nbr_reply  \\\n",
       "0  2018-06-30 23:47:34     True      False  1013207446532296705          0   \n",
       "1  2018-06-30 23:22:21     True      False  1013201101468807169          0   \n",
       "2  2018-06-30 23:10:33    False      False  1013198130383327232          0   \n",
       "3  2018-06-30 23:06:25     True      False  1013197092267921412          1   \n",
       "\n",
       "                                          text_clean  compound  negative  \\\n",
       "0  Get your facts straight get off the kool aid t...   -0.7380     0.203   \n",
       "1  Unemployment and illegal immigration have been...   -0.8438     0.295   \n",
       "2  Need Quality Used Engine for your Imported Car...    0.2960     0.000   \n",
       "3  that works for you land price can pricing did ...    0.6369     0.000   \n",
       "\n",
       "   neutral  positive stock company datetime_format  sentiment  \n",
       "0    0.749     0.047  AMZN  Amazon      2018-06-30         -1  \n",
       "1    0.605     0.099  AMZN  Amazon      2018-06-30         -1  \n",
       "2    0.939     0.061  AMZN  Amazon      2018-06-30          1  \n",
       "3    0.802     0.198  AMZN  Amazon      2018-06-30          1  "
      ]
     },
     "execution_count": 29,
     "metadata": {},
     "output_type": "execute_result"
    }
   ],
   "source": [
    "data.head(4)"
   ]
  },
  {
   "cell_type": "code",
   "execution_count": 12,
   "metadata": {
    "collapsed": true
   },
   "outputs": [],
   "source": [
    "data[\"stock\"] = \"AMZN\"\n",
    "data[\"company\"] = \"Amazon\""
   ]
  },
  {
   "cell_type": "code",
   "execution_count": null,
   "metadata": {
    "collapsed": true
   },
   "outputs": [],
   "source": [
    "!mkdir result"
   ]
  },
  {
   "cell_type": "code",
   "execution_count": 49,
   "metadata": {
    "collapsed": true
   },
   "outputs": [],
   "source": [
    "data.to_csv(\"./result/preprocessed_data.csv\")"
   ]
  },
  {
   "cell_type": "code",
   "execution_count": 20,
   "metadata": {
    "collapsed": true
   },
   "outputs": [],
   "source": [
    "data[\"datetime_format\"] = pd.to_datetime(data[\"datetime\"]).dt.date"
   ]
  },
  {
   "cell_type": "markdown",
   "metadata": {},
   "source": [
    "## 标记tweet的sentiment"
   ]
  },
  {
   "cell_type": "code",
   "execution_count": 25,
   "metadata": {
    "collapsed": true
   },
   "outputs": [],
   "source": [
    "def sentiment_class(row,key=\"compound\"):\n",
    "    sentiment_score = row[key]\n",
    "    if sentiment_score > 0:\n",
    "        return 1\n",
    "    elif sentiment_score < 0:\n",
    "        return -1\n",
    "    return 0"
   ]
  },
  {
   "cell_type": "code",
   "execution_count": 26,
   "metadata": {
    "collapsed": true
   },
   "outputs": [],
   "source": [
    "data[\"sentiment\"] = data.apply(sentiment_class,axis=1)"
   ]
  },
  {
   "cell_type": "markdown",
   "metadata": {},
   "source": [
    "## 根据日期合并每天的social media sentiment"
   ]
  },
  {
   "cell_type": "markdown",
   "metadata": {},
   "source": [
    "### market sentiment score"
   ]
  },
  {
   "cell_type": "code",
   "execution_count": 30,
   "metadata": {
    "collapsed": true
   },
   "outputs": [],
   "source": [
    "data_groups = data.groupby(\"datetime_format\")"
   ]
  },
  {
   "cell_type": "code",
   "execution_count": 39,
   "metadata": {
    "collapsed": true
   },
   "outputs": [],
   "source": [
    "result = {\"date\":[],\"neg\":[],\"pos\":[],\"neu\":[],}"
   ]
  },
  {
   "cell_type": "code",
   "execution_count": null,
   "metadata": {
    "collapsed": true
   },
   "outputs": [],
   "source": []
  },
  {
   "cell_type": "code",
   "execution_count": 48,
   "metadata": {},
   "outputs": [
    {
     "name": "stdout",
     "output_type": "stream",
     "text": [
      "0     166\n",
      "1      11\n",
      "2       5\n",
      "5       2\n",
      "29      1\n",
      "4       1\n",
      "3       1\n",
      "Name: nbr_retweet, dtype: int64\n",
      "\n",
      "\n",
      "True     114\n",
      "False     73\n",
      "Name: is_reply, dtype: int64\n",
      "\n",
      "\n",
      " 1    111\n",
      "-1     54\n",
      " 0     22\n",
      "Name: sentiment, dtype: int64\n",
      "\n",
      "\n",
      "             1  -1   0\n",
      "sentiment  111  54  22\n",
      "<class 'pandas.core.series.Series'>\n"
     ]
    }
   ],
   "source": [
    "for key, group in data_groups:\n",
    "    value_count = pd.value_counts(group[\"sentiment\"])\n",
    "    print(pd.value_counts(group[\"nbr_retweet\"]))\n",
    "    print('\\n')\n",
    "    print(pd.value_counts(group[\"is_reply\"]))\n",
    "    print('\\n')\n",
    "    print(value_count)\n",
    "    print('\\n') \n",
    "    print(pd.DataFrame(value_count).T)\n",
    "    print(type(value_count))\n",
    "    break"
   ]
  },
  {
   "cell_type": "code",
   "execution_count": null,
   "metadata": {
    "collapsed": true
   },
   "outputs": [],
   "source": []
  }
 ],
 "metadata": {
  "kernelspec": {
   "display_name": "tweet",
   "language": "python",
   "name": "tweet"
  },
  "language_info": {
   "codemirror_mode": {
    "name": "ipython",
    "version": 3
   },
   "file_extension": ".py",
   "mimetype": "text/x-python",
   "name": "python",
   "nbconvert_exporter": "python",
   "pygments_lexer": "ipython3",
   "version": "3.6.2"
  }
 },
 "nbformat": 4,
 "nbformat_minor": 2
}
