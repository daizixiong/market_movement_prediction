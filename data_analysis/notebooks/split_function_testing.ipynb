{
 "cells": [
  {
   "cell_type": "markdown",
   "metadata": {},
   "source": [
    "# Splite function"
   ]
  },
  {
   "cell_type": "code",
   "execution_count": 1,
   "metadata": {
    "collapsed": true
   },
   "outputs": [],
   "source": [
    "import numpy as np\n",
    "import pandas as pd"
   ]
  },
  {
   "cell_type": "code",
   "execution_count": 2,
   "metadata": {
    "collapsed": true
   },
   "outputs": [],
   "source": [
    "from sklearn.model_selection import train_test_split"
   ]
  },
  {
   "cell_type": "code",
   "execution_count": 3,
   "metadata": {
    "collapsed": true
   },
   "outputs": [],
   "source": [
    "# params path\n",
    "params_path = \"./data/aapl_data_set.csv\""
   ]
  },
  {
   "cell_type": "code",
   "execution_count": 4,
   "metadata": {
    "collapsed": true
   },
   "outputs": [],
   "source": [
    "# import params\n",
    "params = pd.read_csv(params_path)"
   ]
  },
  {
   "cell_type": "code",
   "execution_count": 5,
   "metadata": {},
   "outputs": [
    {
     "data": {
      "text/plain": [
       "(48, 9)"
      ]
     },
     "execution_count": 5,
     "metadata": {},
     "output_type": "execute_result"
    }
   ],
   "source": [
    "params.shape"
   ]
  },
  {
   "cell_type": "code",
   "execution_count": 6,
   "metadata": {
    "collapsed": true
   },
   "outputs": [],
   "source": [
    "X = params.loc[:].copy()\n",
    "X.drop([\"date\",\"stock_price_movement\"],inplace=True,axis=1)\n",
    "y = params[\"stock_price_movement\"].copy()"
   ]
  },
  {
   "cell_type": "code",
   "execution_count": 7,
   "metadata": {
    "collapsed": true
   },
   "outputs": [],
   "source": [
    "X_train, X_test, y_train, y_test = train_test_split(X, y, test_size=0.2, random_state=8)"
   ]
  },
  {
   "cell_type": "code",
   "execution_count": 8,
   "metadata": {},
   "outputs": [
    {
     "data": {
      "text/plain": [
       "(38, 7)"
      ]
     },
     "execution_count": 8,
     "metadata": {},
     "output_type": "execute_result"
    }
   ],
   "source": [
    "X_train.shape"
   ]
  },
  {
   "cell_type": "code",
   "execution_count": 9,
   "metadata": {},
   "outputs": [
    {
     "data": {
      "text/plain": [
       "(10, 7)"
      ]
     },
     "execution_count": 9,
     "metadata": {},
     "output_type": "execute_result"
    }
   ],
   "source": [
    "X_test.shape"
   ]
  },
  {
   "cell_type": "code",
   "execution_count": 11,
   "metadata": {},
   "outputs": [
    {
     "data": {
      "text/plain": [
       "pandas.core.series.Series"
      ]
     },
     "execution_count": 11,
     "metadata": {},
     "output_type": "execute_result"
    }
   ],
   "source": [
    "type(y_train)"
   ]
  },
  {
   "cell_type": "code",
   "execution_count": 15,
   "metadata": {},
   "outputs": [
    {
     "data": {
      "text/plain": [
       "10"
      ]
     },
     "execution_count": 15,
     "metadata": {},
     "output_type": "execute_result"
    }
   ],
   "source": [
    "int(X.shape[0] * 0.2) + 1"
   ]
  },
  {
   "cell_type": "code",
   "execution_count": null,
   "metadata": {
    "collapsed": true
   },
   "outputs": [],
   "source": [
    "for i in range(8):\n",
    "    test_size = (i+1)*0.1\n",
    "    X_train, X_test, y_train, y_test = train_test_split(X, y, test_size=test_size, random_state=8)\n",
    "    print(\"Traning data count: \",X_train.shape[0])\n",
    "    print(\"Testing data count: \",X_test.shape[0])\n",
    "    print(\"Testing counting :\", X.shape[0]*test_size)\n",
    "    print(\"Possible testing counting :\", int(X.shape[0]*test_size))"
   ]
  },
  {
   "cell_type": "code",
   "execution_count": null,
   "metadata": {
    "collapsed": true
   },
   "outputs": [],
   "source": [
    "for i in range(8):\n",
    "    test_size = (i+1)*0.1\n",
    "    X_train, X_test, y_train, y_test = train_test_split(X, y, test_size=test_size, random_state=8)\n",
    "    print(\"Testing data count: \",X_test.shape[0])\n",
    "    test_shape = int(X.shape[0]*test_size)\n",
    "    \n",
    "    if test_shape != X.shape[0]*test_size:\n",
    "        test_shape += 1\n",
    "    \n",
    "    print(\"Possible testing counting :\", test_shape)"
   ]
  },
  {
   "cell_type": "code",
   "execution_count": 23,
   "metadata": {},
   "outputs": [
    {
     "data": {
      "text/html": [
       "<div>\n",
       "<table border=\"1\" class=\"dataframe\">\n",
       "  <thead>\n",
       "    <tr style=\"text-align: right;\">\n",
       "      <th></th>\n",
       "      <th>neg_score_ratio</th>\n",
       "      <th>pos_score_ratio</th>\n",
       "      <th>neg_tweets_ratio</th>\n",
       "      <th>pos_tweets_ratio</th>\n",
       "      <th>ave_price_change</th>\n",
       "      <th>daily_otc_price_change</th>\n",
       "      <th>vol_change</th>\n",
       "    </tr>\n",
       "  </thead>\n",
       "  <tbody>\n",
       "    <tr>\n",
       "      <th>0</th>\n",
       "      <td>-0.454969</td>\n",
       "      <td>1.454968</td>\n",
       "      <td>0.2726</td>\n",
       "      <td>0.7274</td>\n",
       "      <td>0.0195</td>\n",
       "      <td>0.0063</td>\n",
       "      <td>0.4438</td>\n",
       "    </tr>\n",
       "    <tr>\n",
       "      <th>1</th>\n",
       "      <td>-0.247004</td>\n",
       "      <td>1.247004</td>\n",
       "      <td>0.3581</td>\n",
       "      <td>0.6419</td>\n",
       "      <td>-0.0103</td>\n",
       "      <td>0.0027</td>\n",
       "      <td>-0.2885</td>\n",
       "    </tr>\n",
       "    <tr>\n",
       "      <th>2</th>\n",
       "      <td>-0.519116</td>\n",
       "      <td>1.519117</td>\n",
       "      <td>0.2711</td>\n",
       "      <td>0.7289</td>\n",
       "      <td>0.0001</td>\n",
       "      <td>0.0066</td>\n",
       "      <td>-0.0066</td>\n",
       "    </tr>\n",
       "    <tr>\n",
       "      <th>3</th>\n",
       "      <td>1.422147</td>\n",
       "      <td>-0.422147</td>\n",
       "      <td>0.3609</td>\n",
       "      <td>0.6391</td>\n",
       "      <td>-0.0074</td>\n",
       "      <td>-0.0128</td>\n",
       "      <td>0.2044</td>\n",
       "    </tr>\n",
       "    <tr>\n",
       "      <th>4</th>\n",
       "      <td>-0.104026</td>\n",
       "      <td>1.104026</td>\n",
       "      <td>0.3184</td>\n",
       "      <td>0.6816</td>\n",
       "      <td>-0.0027</td>\n",
       "      <td>-0.0023</td>\n",
       "      <td>-0.2585</td>\n",
       "    </tr>\n",
       "    <tr>\n",
       "      <th>5</th>\n",
       "      <td>-0.033004</td>\n",
       "      <td>1.033004</td>\n",
       "      <td>0.3237</td>\n",
       "      <td>0.6763</td>\n",
       "      <td>0.0069</td>\n",
       "      <td>0.0005</td>\n",
       "      <td>0.2470</td>\n",
       "    </tr>\n",
       "    <tr>\n",
       "      <th>6</th>\n",
       "      <td>-0.205297</td>\n",
       "      <td>1.205297</td>\n",
       "      <td>0.2204</td>\n",
       "      <td>0.7796</td>\n",
       "      <td>-0.0013</td>\n",
       "      <td>0.0101</td>\n",
       "      <td>-0.0740</td>\n",
       "    </tr>\n",
       "    <tr>\n",
       "      <th>7</th>\n",
       "      <td>-2.416187</td>\n",
       "      <td>3.416183</td>\n",
       "      <td>0.2412</td>\n",
       "      <td>0.7588</td>\n",
       "      <td>0.0182</td>\n",
       "      <td>0.0112</td>\n",
       "      <td>0.2212</td>\n",
       "    </tr>\n",
       "    <tr>\n",
       "      <th>8</th>\n",
       "      <td>-0.262473</td>\n",
       "      <td>1.262473</td>\n",
       "      <td>0.2841</td>\n",
       "      <td>0.7159</td>\n",
       "      <td>0.0026</td>\n",
       "      <td>0.0043</td>\n",
       "      <td>-0.2340</td>\n",
       "    </tr>\n",
       "    <tr>\n",
       "      <th>9</th>\n",
       "      <td>-6.355811</td>\n",
       "      <td>7.355811</td>\n",
       "      <td>0.3906</td>\n",
       "      <td>0.6094</td>\n",
       "      <td>-0.0075</td>\n",
       "      <td>-0.0202</td>\n",
       "      <td>0.8426</td>\n",
       "    </tr>\n",
       "    <tr>\n",
       "      <th>10</th>\n",
       "      <td>-0.389157</td>\n",
       "      <td>1.389157</td>\n",
       "      <td>0.4137</td>\n",
       "      <td>0.5863</td>\n",
       "      <td>-0.0277</td>\n",
       "      <td>-0.0129</td>\n",
       "      <td>0.2960</td>\n",
       "    </tr>\n",
       "  </tbody>\n",
       "</table>\n",
       "</div>"
      ],
      "text/plain": [
       "    neg_score_ratio  pos_score_ratio  neg_tweets_ratio  pos_tweets_ratio  \\\n",
       "0         -0.454969         1.454968            0.2726            0.7274   \n",
       "1         -0.247004         1.247004            0.3581            0.6419   \n",
       "2         -0.519116         1.519117            0.2711            0.7289   \n",
       "3          1.422147        -0.422147            0.3609            0.6391   \n",
       "4         -0.104026         1.104026            0.3184            0.6816   \n",
       "5         -0.033004         1.033004            0.3237            0.6763   \n",
       "6         -0.205297         1.205297            0.2204            0.7796   \n",
       "7         -2.416187         3.416183            0.2412            0.7588   \n",
       "8         -0.262473         1.262473            0.2841            0.7159   \n",
       "9         -6.355811         7.355811            0.3906            0.6094   \n",
       "10        -0.389157         1.389157            0.4137            0.5863   \n",
       "\n",
       "    ave_price_change  daily_otc_price_change  vol_change  \n",
       "0             0.0195                  0.0063      0.4438  \n",
       "1            -0.0103                  0.0027     -0.2885  \n",
       "2             0.0001                  0.0066     -0.0066  \n",
       "3            -0.0074                 -0.0128      0.2044  \n",
       "4            -0.0027                 -0.0023     -0.2585  \n",
       "5             0.0069                  0.0005      0.2470  \n",
       "6            -0.0013                  0.0101     -0.0740  \n",
       "7             0.0182                  0.0112      0.2212  \n",
       "8             0.0026                  0.0043     -0.2340  \n",
       "9            -0.0075                 -0.0202      0.8426  \n",
       "10           -0.0277                 -0.0129      0.2960  "
      ]
     },
     "execution_count": 23,
     "metadata": {},
     "output_type": "execute_result"
    }
   ],
   "source": [
    "X.loc[0:10]"
   ]
  },
  {
   "cell_type": "code",
   "execution_count": 10,
   "metadata": {
    "collapsed": true
   },
   "outputs": [],
   "source": [
    "def split(X,y,test_size=0.2):\n",
    "    # get the test data item number\n",
    "    test_shape = int(X.shape[0]*test_size)\n",
    "    \n",
    "    if test_shape != X.shape[0]*test_size:\n",
    "        test_shape += 1\n",
    "    train_shape = X.shape[0] - test_shape\n",
    "    \n",
    "    X_train = X.loc[0:train_shape-1]\n",
    "    X_test = X.loc[train_shape:]\n",
    "    \n",
    "    y_train = y.loc[0:train_shape-1]\n",
    "    y_test = y.loc[train_shape:]\n",
    "    print(X.shape[0], X_train.shape[0]+X_test.shape[0],X_train.shape[0],X_test.shape[0])"
   ]
  },
  {
   "cell_type": "code",
   "execution_count": 11,
   "metadata": {},
   "outputs": [
    {
     "name": "stdout",
     "output_type": "stream",
     "text": [
      "48 48 38 10\n"
     ]
    }
   ],
   "source": [
    "split(X,y,0.2)"
   ]
  },
  {
   "cell_type": "code",
   "execution_count": 12,
   "metadata": {},
   "outputs": [
    {
     "name": "stdout",
     "output_type": "stream",
     "text": [
      "48 48 43 5\n",
      "48 48 38 10\n",
      "48 48 33 15\n",
      "48 48 28 20\n",
      "48 48 24 24\n",
      "48 48 19 29\n",
      "48 48 14 34\n",
      "48 48 9 39\n"
     ]
    }
   ],
   "source": [
    "for i in range(8):\n",
    "    test_size = (i+1)*0.1\n",
    "    split(X,y,test_size)"
   ]
  },
  {
   "cell_type": "code",
   "execution_count": null,
   "metadata": {
    "collapsed": true
   },
   "outputs": [],
   "source": []
  }
 ],
 "metadata": {
  "kernelspec": {
   "display_name": "tweet",
   "language": "python",
   "name": "tweet"
  },
  "language_info": {
   "codemirror_mode": {
    "name": "ipython",
    "version": 3
   },
   "file_extension": ".py",
   "mimetype": "text/x-python",
   "name": "python",
   "nbconvert_exporter": "python",
   "pygments_lexer": "ipython3",
   "version": "3.6.2"
  }
 },
 "nbformat": 4,
 "nbformat_minor": 2
}
